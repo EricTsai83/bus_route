{
 "metadata": {
  "language_info": {
   "codemirror_mode": {
    "name": "ipython",
    "version": 3
   },
   "file_extension": ".py",
   "mimetype": "text/x-python",
   "name": "python",
   "nbconvert_exporter": "python",
   "pygments_lexer": "ipython3",
   "version": "3.8.8"
  },
  "orig_nbformat": 2,
  "kernelspec": {
   "name": "python388jvsc74a57bd0610ce463f2033d00101059a2a8d44cc6bfaf8272d1102aaa40059133de29488a",
   "display_name": "Python 3.8.8 64-bit ('pyjsviz': conda)"
  }
 },
 "nbformat": 4,
 "nbformat_minor": 2,
 "cells": [
  {
   "source": [
    "# 台北公車 API Web 介接"
   ],
   "cell_type": "markdown",
   "metadata": {}
  },
  {
   "cell_type": "code",
   "execution_count": 1,
   "metadata": {},
   "outputs": [],
   "source": [
    "  \n",
    "from hashlib import sha1\n",
    "import hmac\n",
    "from wsgiref.handlers import format_date_time\n",
    "from datetime import datetime\n",
    "from time import mktime\n",
    "import base64\n",
    "from requests import request\n",
    "from pprint import pprint\n",
    "import pandas as pd\n",
    "\n",
    "import re\n",
    "from math import radians, cos, sin, asin, sqrt\n",
    "\n",
    "import csv"
   ]
  },
  {
   "source": [
    "pd.options.display.max_columns = 100"
   ],
   "cell_type": "code",
   "metadata": {},
   "execution_count": 66,
   "outputs": []
  },
  {
   "cell_type": "code",
   "execution_count": 2,
   "metadata": {},
   "outputs": [],
   "source": [
    "app_id = 'd745a4be31a84263aebace7253759508'\n",
    "app_key = 'fvcPGn7JE8p3ZT8RmfeoBuu2goo'"
   ]
  },
  {
   "cell_type": "code",
   "execution_count": 3,
   "metadata": {},
   "outputs": [],
   "source": [
    "class Auth:\n",
    "    def __init__(self, app_id, app_key):\n",
    "        self.app_id = app_id\n",
    "        self.app_key = app_key\n",
    "\n",
    "    def get_auth_header(self):\n",
    "        xdate = format_date_time(mktime(datetime.now().timetuple()))\n",
    "        hashed = hmac.new(self.app_key.encode('utf8'), ('x-date: ' + xdate).encode('utf8'), sha1)\n",
    "        signature = base64.b64encode(hashed.digest()).decode()\n",
    "\n",
    "        authorization = 'hmac username=\"' + self.app_id + '\", ' + \\\n",
    "                        'algorithm=\"hmac-sha1\", ' + \\\n",
    "                        'headers=\"x-date\", ' + \\\n",
    "                        'signature=\"' + signature + '\"'\n",
    "        return {\n",
    "            'Authorization': authorization,\n",
    "            'x-date': format_date_time(mktime(datetime.now().timetuple())),\n",
    "            'Accept - Encoding': 'gzip'\n",
    "        }"
   ]
  },
  {
   "cell_type": "code",
   "execution_count": null,
   "metadata": {},
   "outputs": [],
   "source": []
  },
  {
   "source": [
    "## 版本詳細資訊\n",
    "[參考資料](https://ptx.transportdata.tw/MOTC?t=Bus&v=2#!/CityBus/CityBusApi_DataVersion)"
   ],
   "cell_type": "markdown",
   "metadata": {}
  },
  {
   "cell_type": "code",
   "execution_count": 4,
   "metadata": {},
   "outputs": [],
   "source": [
    "if __name__ == '__main__':\n",
    "    a = Auth(app_id, app_key)\n",
    "    response = request('get', 'https://ptx.transportdata.tw/MOTC/v2/Bus/DataVersion/City/Taipei?&$format=JSON', headers= a.get_auth_header())\n",
    "    if response.status_code == 200:\n",
    "        json = response.json()\n",
    "    else:\n",
    "        print(f'request failed\\n{response.status_code}')"
   ]
  },
  {
   "cell_type": "code",
   "execution_count": 5,
   "metadata": {},
   "outputs": [
    {
     "output_type": "stream",
     "name": "stdout",
     "text": [
      "版本詳細資訊\nVersionID: 1114\nUpdateTime: 2021-05-13T04:22:39+08:00\nUpdateCheckTime: 2021-05-28T16:00:00+08:00\n"
     ]
    }
   ],
   "source": [
    "print(f\"版本詳細資訊\\nVersionID: {json.get('VersionID')}\\nUpdateTime: {json.get('UpdateTime')}\\nUpdateCheckTime: {json.get('UpdateCheckTime')}\")"
   ]
  },
  {
   "source": [
    "## 市區公車之路線資料\n",
    "[參考資料](https://ptx.transportdata.tw/MOTC?t=Bus&v=2#!/CityBus/CityBusApi_Route_1)"
   ],
   "cell_type": "markdown",
   "metadata": {}
  },
  {
   "cell_type": "code",
   "execution_count": 6,
   "metadata": {},
   "outputs": [],
   "source": [
    "if __name__ == '__main__':\n",
    "    a = Auth(app_id, app_key)\n",
    "    response = request('get', 'https://ptx.transportdata.tw/MOTC/v2/Bus/Route/City/Taipei?$format=JSON', headers= a.get_auth_header())\n",
    "    if response.status_code == 200:\n",
    "        json = response.json()\n",
    "    else:\n",
    "        print('request failed')"
   ]
  },
  {
   "cell_type": "code",
   "execution_count": 7,
   "metadata": {},
   "outputs": [],
   "source": [
    "bus_route_image_df = pd.DataFrame(json)"
   ]
  },
  {
   "cell_type": "code",
   "execution_count": 8,
   "metadata": {},
   "outputs": [],
   "source": [
    "bus_route_image_df = bus_route_image_df[['RouteUID', 'HasSubRoutes', 'RouteMapImageUrl']]"
   ]
  },
  {
   "cell_type": "code",
   "execution_count": 9,
   "metadata": {},
   "outputs": [
    {
     "output_type": "execute_result",
     "data": {
      "text/plain": [
       "'https://ebus.gov.taipei/MapOverview?nid=0100023400'"
      ]
     },
     "metadata": {},
     "execution_count": 9
    }
   ],
   "source": [
    "bus_route_image_df.loc[0]['RouteMapImageUrl']"
   ]
  },
  {
   "source": [
    "## 市區公車之路線站序資料\n",
    "[市區公車之路線站序資料](https://ptx.transportdata.tw/MOTC?t=Bus&v=2#!/CityBus/CityBusApi_StopOfRoute_1)"
   ],
   "cell_type": "markdown",
   "metadata": {}
  },
  {
   "cell_type": "code",
   "execution_count": 10,
   "metadata": {},
   "outputs": [],
   "source": [
    "if __name__ == '__main__':\n",
    "    a = Auth(app_id, app_key)\n",
    "    response = request('get', 'https://ptx.transportdata.tw/MOTC/v2/Bus/StopOfRoute/City/Taipei?$format=JSON', headers= a.get_auth_header())\n",
    "    if response.status_code == 200:\n",
    "        json = response.json()\n",
    "    else:\n",
    "        print('request failed')"
   ]
  },
  {
   "cell_type": "code",
   "execution_count": 11,
   "metadata": {},
   "outputs": [],
   "source": [
    "bus_route_df = pd.DataFrame(json)"
   ]
  },
  {
   "cell_type": "code",
   "execution_count": 12,
   "metadata": {},
   "outputs": [
    {
     "output_type": "display_data",
     "data": {
      "text/plain": "   RouteUID RouteID                      RouteName  \\\n0  TPE10132   10132  {'Zh_tw': '234', 'En': '234'}   \n1  TPE10132   10132  {'Zh_tw': '234', 'En': '234'}   \n2  TPE10142   10142    {'Zh_tw': '綠1', 'En': 'G1'}   \n\n                                           Operators SubRouteUID SubRouteID  \\\n0  [{'OperatorID': '100', 'OperatorName': {'Zh_tw...   TPE101320     101320   \n1  [{'OperatorID': '100', 'OperatorName': {'Zh_tw...   TPE101320     101320   \n2  [{'OperatorID': '100', 'OperatorName': {'Zh_tw...    TPE10142      10142   \n\n                       SubRouteName  Direction    City CityCode  \\\n0     {'Zh_tw': '234', 'En': '234'}          0  Taipei      TPE   \n1     {'Zh_tw': '234', 'En': '234'}          1  Taipei      TPE   \n2  {'Zh_tw': '綠1調度站發車', 'En': 'G1'}          0  Taipei      TPE   \n\n                                               Stops  \\\n0  [{'StopUID': 'TPE33210', 'StopID': '33210', 'S...   \n1  [{'StopUID': 'TPE33247', 'StopID': '33247', 'S...   \n2  [{'StopUID': 'TPE191081', 'StopID': '191081', ...   \n\n                  UpdateTime  VersionID  \n0  2021-05-13T04:22:39+08:00       1114  \n1  2021-05-13T04:22:39+08:00       1114  \n2  2021-05-13T04:22:39+08:00       1114  ",
      "text/html": "<div>\n<style scoped>\n    .dataframe tbody tr th:only-of-type {\n        vertical-align: middle;\n    }\n\n    .dataframe tbody tr th {\n        vertical-align: top;\n    }\n\n    .dataframe thead th {\n        text-align: right;\n    }\n</style>\n<table border=\"1\" class=\"dataframe\">\n  <thead>\n    <tr style=\"text-align: right;\">\n      <th></th>\n      <th>RouteUID</th>\n      <th>RouteID</th>\n      <th>RouteName</th>\n      <th>Operators</th>\n      <th>SubRouteUID</th>\n      <th>SubRouteID</th>\n      <th>SubRouteName</th>\n      <th>Direction</th>\n      <th>City</th>\n      <th>CityCode</th>\n      <th>Stops</th>\n      <th>UpdateTime</th>\n      <th>VersionID</th>\n    </tr>\n  </thead>\n  <tbody>\n    <tr>\n      <th>0</th>\n      <td>TPE10132</td>\n      <td>10132</td>\n      <td>{'Zh_tw': '234', 'En': '234'}</td>\n      <td>[{'OperatorID': '100', 'OperatorName': {'Zh_tw...</td>\n      <td>TPE101320</td>\n      <td>101320</td>\n      <td>{'Zh_tw': '234', 'En': '234'}</td>\n      <td>0</td>\n      <td>Taipei</td>\n      <td>TPE</td>\n      <td>[{'StopUID': 'TPE33210', 'StopID': '33210', 'S...</td>\n      <td>2021-05-13T04:22:39+08:00</td>\n      <td>1114</td>\n    </tr>\n    <tr>\n      <th>1</th>\n      <td>TPE10132</td>\n      <td>10132</td>\n      <td>{'Zh_tw': '234', 'En': '234'}</td>\n      <td>[{'OperatorID': '100', 'OperatorName': {'Zh_tw...</td>\n      <td>TPE101320</td>\n      <td>101320</td>\n      <td>{'Zh_tw': '234', 'En': '234'}</td>\n      <td>1</td>\n      <td>Taipei</td>\n      <td>TPE</td>\n      <td>[{'StopUID': 'TPE33247', 'StopID': '33247', 'S...</td>\n      <td>2021-05-13T04:22:39+08:00</td>\n      <td>1114</td>\n    </tr>\n    <tr>\n      <th>2</th>\n      <td>TPE10142</td>\n      <td>10142</td>\n      <td>{'Zh_tw': '綠1', 'En': 'G1'}</td>\n      <td>[{'OperatorID': '100', 'OperatorName': {'Zh_tw...</td>\n      <td>TPE10142</td>\n      <td>10142</td>\n      <td>{'Zh_tw': '綠1調度站發車', 'En': 'G1'}</td>\n      <td>0</td>\n      <td>Taipei</td>\n      <td>TPE</td>\n      <td>[{'StopUID': 'TPE191081', 'StopID': '191081', ...</td>\n      <td>2021-05-13T04:22:39+08:00</td>\n      <td>1114</td>\n    </tr>\n  </tbody>\n</table>\n</div>"
     },
     "metadata": {}
    },
    {
     "output_type": "display_data",
     "data": {
      "text/plain": "      RouteUID RouteID                                    RouteName  \\\n1081  TPE18508   18508             {'Zh_tw': '棕20預', 'En': 'BR20B'}   \n1082    TPE810     810  {'Zh_tw': '敦化幹線', 'En': 'Dunhua Metro Bus'}   \n1083    TPE810     810  {'Zh_tw': '敦化幹線', 'En': 'Dunhua Metro Bus'}   \n\n                                              Operators SubRouteUID  \\\n1081  [{'OperatorID': '1100', 'OperatorName': {'Zh_t...   TPE160469   \n1082  [{'OperatorID': '800', 'OperatorName': {'Zh_tw...      TPE810   \n1083  [{'OperatorID': '800', 'OperatorName': {'Zh_tw...      TPE810   \n\n     SubRouteID                                SubRouteName  Direction  \\\n1081     160469            {'Zh_tw': '棕20預', 'En': 'BR20B'}          1   \n1082        810  {'Zh_tw': '敦化幹線', 'En': 'Duhua Metro Bus'}          0   \n1083        810  {'Zh_tw': '敦化幹線', 'En': 'Duhua Metro Bus'}          1   \n\n        City CityCode                                              Stops  \\\n1081  Taipei      TPE  [{'StopUID': 'TPE207232', 'StopID': '207232', ...   \n1082  Taipei      TPE  [{'StopUID': 'TPE18101', 'StopID': '18101', 'S...   \n1083  Taipei      TPE  [{'StopUID': 'TPE18181', 'StopID': '18181', 'S...   \n\n                     UpdateTime  VersionID  \n1081  2021-05-13T04:22:39+08:00       1114  \n1082  2021-05-13T04:22:39+08:00       1114  \n1083  2021-05-13T04:22:39+08:00       1114  ",
      "text/html": "<div>\n<style scoped>\n    .dataframe tbody tr th:only-of-type {\n        vertical-align: middle;\n    }\n\n    .dataframe tbody tr th {\n        vertical-align: top;\n    }\n\n    .dataframe thead th {\n        text-align: right;\n    }\n</style>\n<table border=\"1\" class=\"dataframe\">\n  <thead>\n    <tr style=\"text-align: right;\">\n      <th></th>\n      <th>RouteUID</th>\n      <th>RouteID</th>\n      <th>RouteName</th>\n      <th>Operators</th>\n      <th>SubRouteUID</th>\n      <th>SubRouteID</th>\n      <th>SubRouteName</th>\n      <th>Direction</th>\n      <th>City</th>\n      <th>CityCode</th>\n      <th>Stops</th>\n      <th>UpdateTime</th>\n      <th>VersionID</th>\n    </tr>\n  </thead>\n  <tbody>\n    <tr>\n      <th>1081</th>\n      <td>TPE18508</td>\n      <td>18508</td>\n      <td>{'Zh_tw': '棕20預', 'En': 'BR20B'}</td>\n      <td>[{'OperatorID': '1100', 'OperatorName': {'Zh_t...</td>\n      <td>TPE160469</td>\n      <td>160469</td>\n      <td>{'Zh_tw': '棕20預', 'En': 'BR20B'}</td>\n      <td>1</td>\n      <td>Taipei</td>\n      <td>TPE</td>\n      <td>[{'StopUID': 'TPE207232', 'StopID': '207232', ...</td>\n      <td>2021-05-13T04:22:39+08:00</td>\n      <td>1114</td>\n    </tr>\n    <tr>\n      <th>1082</th>\n      <td>TPE810</td>\n      <td>810</td>\n      <td>{'Zh_tw': '敦化幹線', 'En': 'Dunhua Metro Bus'}</td>\n      <td>[{'OperatorID': '800', 'OperatorName': {'Zh_tw...</td>\n      <td>TPE810</td>\n      <td>810</td>\n      <td>{'Zh_tw': '敦化幹線', 'En': 'Duhua Metro Bus'}</td>\n      <td>0</td>\n      <td>Taipei</td>\n      <td>TPE</td>\n      <td>[{'StopUID': 'TPE18101', 'StopID': '18101', 'S...</td>\n      <td>2021-05-13T04:22:39+08:00</td>\n      <td>1114</td>\n    </tr>\n    <tr>\n      <th>1083</th>\n      <td>TPE810</td>\n      <td>810</td>\n      <td>{'Zh_tw': '敦化幹線', 'En': 'Dunhua Metro Bus'}</td>\n      <td>[{'OperatorID': '800', 'OperatorName': {'Zh_tw...</td>\n      <td>TPE810</td>\n      <td>810</td>\n      <td>{'Zh_tw': '敦化幹線', 'En': 'Duhua Metro Bus'}</td>\n      <td>1</td>\n      <td>Taipei</td>\n      <td>TPE</td>\n      <td>[{'StopUID': 'TPE18181', 'StopID': '18181', 'S...</td>\n      <td>2021-05-13T04:22:39+08:00</td>\n      <td>1114</td>\n    </tr>\n  </tbody>\n</table>\n</div>"
     },
     "metadata": {}
    }
   ],
   "source": [
    "display(bus_route_df.head(3), bus_route_df.tail(3))"
   ]
  },
  {
   "cell_type": "code",
   "execution_count": 13,
   "metadata": {},
   "outputs": [],
   "source": [
    "bus_route_df = bus_route_df[['RouteUID', 'RouteName', 'SubRouteUID', 'SubRouteName', 'Direction', 'City', 'Stops']]"
   ]
  },
  {
   "cell_type": "code",
   "execution_count": 14,
   "metadata": {},
   "outputs": [],
   "source": [
    "route_name_df = pd.DataFrame(bus_route_df['RouteName'].tolist())\n",
    "route_name_df.columns = ['route_name_zh_tw', 'route_name_en']\n",
    "subroute_name_df = pd.DataFrame(bus_route_df['SubRouteName'].tolist())\n",
    "subroute_name_df.columns = ['subroute_name_zh_tw', 'subroute_name_en']"
   ]
  },
  {
   "cell_type": "code",
   "execution_count": 15,
   "metadata": {},
   "outputs": [],
   "source": [
    "bus_route_df.drop(['RouteName', 'SubRouteName'], axis=1, inplace=True)"
   ]
  },
  {
   "cell_type": "code",
   "execution_count": 16,
   "metadata": {},
   "outputs": [],
   "source": [
    "bus_route_df = pd.concat([bus_route_df, route_name_df], axis=1)\n",
    "bus_route_df = pd.concat([bus_route_df, subroute_name_df], axis=1)"
   ]
  },
  {
   "cell_type": "code",
   "execution_count": 17,
   "metadata": {},
   "outputs": [
    {
     "output_type": "execute_result",
     "data": {
      "text/plain": [
       "   RouteUID SubRouteUID  Direction    City  \\\n",
       "0  TPE10132   TPE101320          0  Taipei   \n",
       "1  TPE10132   TPE101320          1  Taipei   \n",
       "2  TPE10142    TPE10142          0  Taipei   \n",
       "3  TPE10142    TPE10142          1  Taipei   \n",
       "4  TPE10142   TPE157758          0  Taipei   \n",
       "\n",
       "                                               Stops route_name_zh_tw  \\\n",
       "0  [{'StopUID': 'TPE33210', 'StopID': '33210', 'S...              234   \n",
       "1  [{'StopUID': 'TPE33247', 'StopID': '33247', 'S...              234   \n",
       "2  [{'StopUID': 'TPE191081', 'StopID': '191081', ...               綠1   \n",
       "3  [{'StopUID': 'TPE16915', 'StopID': '16915', 'S...               綠1   \n",
       "4  [{'StopUID': 'TPE16853', 'StopID': '16853', 'S...               綠1   \n",
       "\n",
       "  route_name_en subroute_name_zh_tw subroute_name_en  \n",
       "0           234                 234              234  \n",
       "1           234                 234              234  \n",
       "2            G1             綠1調度站發車               G1  \n",
       "3            G1             綠1調度站發車               G1  \n",
       "4            G1           綠1捷運新店站發車               G1  "
      ],
      "text/html": "<div>\n<style scoped>\n    .dataframe tbody tr th:only-of-type {\n        vertical-align: middle;\n    }\n\n    .dataframe tbody tr th {\n        vertical-align: top;\n    }\n\n    .dataframe thead th {\n        text-align: right;\n    }\n</style>\n<table border=\"1\" class=\"dataframe\">\n  <thead>\n    <tr style=\"text-align: right;\">\n      <th></th>\n      <th>RouteUID</th>\n      <th>SubRouteUID</th>\n      <th>Direction</th>\n      <th>City</th>\n      <th>Stops</th>\n      <th>route_name_zh_tw</th>\n      <th>route_name_en</th>\n      <th>subroute_name_zh_tw</th>\n      <th>subroute_name_en</th>\n    </tr>\n  </thead>\n  <tbody>\n    <tr>\n      <th>0</th>\n      <td>TPE10132</td>\n      <td>TPE101320</td>\n      <td>0</td>\n      <td>Taipei</td>\n      <td>[{'StopUID': 'TPE33210', 'StopID': '33210', 'S...</td>\n      <td>234</td>\n      <td>234</td>\n      <td>234</td>\n      <td>234</td>\n    </tr>\n    <tr>\n      <th>1</th>\n      <td>TPE10132</td>\n      <td>TPE101320</td>\n      <td>1</td>\n      <td>Taipei</td>\n      <td>[{'StopUID': 'TPE33247', 'StopID': '33247', 'S...</td>\n      <td>234</td>\n      <td>234</td>\n      <td>234</td>\n      <td>234</td>\n    </tr>\n    <tr>\n      <th>2</th>\n      <td>TPE10142</td>\n      <td>TPE10142</td>\n      <td>0</td>\n      <td>Taipei</td>\n      <td>[{'StopUID': 'TPE191081', 'StopID': '191081', ...</td>\n      <td>綠1</td>\n      <td>G1</td>\n      <td>綠1調度站發車</td>\n      <td>G1</td>\n    </tr>\n    <tr>\n      <th>3</th>\n      <td>TPE10142</td>\n      <td>TPE10142</td>\n      <td>1</td>\n      <td>Taipei</td>\n      <td>[{'StopUID': 'TPE16915', 'StopID': '16915', 'S...</td>\n      <td>綠1</td>\n      <td>G1</td>\n      <td>綠1調度站發車</td>\n      <td>G1</td>\n    </tr>\n    <tr>\n      <th>4</th>\n      <td>TPE10142</td>\n      <td>TPE157758</td>\n      <td>0</td>\n      <td>Taipei</td>\n      <td>[{'StopUID': 'TPE16853', 'StopID': '16853', 'S...</td>\n      <td>綠1</td>\n      <td>G1</td>\n      <td>綠1捷運新店站發車</td>\n      <td>G1</td>\n    </tr>\n  </tbody>\n</table>\n</div>"
     },
     "metadata": {},
     "execution_count": 17
    }
   ],
   "source": [
    "bus_route_df.head()"
   ]
  },
  {
   "cell_type": "code",
   "execution_count": 18,
   "metadata": {},
   "outputs": [],
   "source": [
    "# dict.get(): Return the value for key if key is in the dictionary,\n",
    "#             else None(default). So this method never raises a KeyError.\n",
    "def clean_stop_info(stop_info: list):\n",
    "    li = []\n",
    "    dic = {}\n",
    "    for stop in stop_info:\n",
    "        dic = {\n",
    "            'StopUID': stop.get('StopUID'),\n",
    "            'StopSequence': stop.get('StopSequence'),\n",
    "        }\n",
    "\n",
    "        li.append(dic)\n",
    "\n",
    "    return li"
   ]
  },
  {
   "cell_type": "code",
   "execution_count": 19,
   "metadata": {},
   "outputs": [],
   "source": [
    "bus_route_df['stop_info'] = bus_route_df['Stops'].apply(clean_stop_info)"
   ]
  },
  {
   "cell_type": "code",
   "execution_count": 20,
   "metadata": {},
   "outputs": [
    {
     "output_type": "execute_result",
     "data": {
      "text/plain": [
       "   RouteUID SubRouteUID  Direction    City  \\\n",
       "0  TPE10132   TPE101320          0  Taipei   \n",
       "1  TPE10132   TPE101320          1  Taipei   \n",
       "2  TPE10142    TPE10142          0  Taipei   \n",
       "3  TPE10142    TPE10142          1  Taipei   \n",
       "4  TPE10142   TPE157758          0  Taipei   \n",
       "\n",
       "                                               Stops route_name_zh_tw  \\\n",
       "0  [{'StopUID': 'TPE33210', 'StopID': '33210', 'S...              234   \n",
       "1  [{'StopUID': 'TPE33247', 'StopID': '33247', 'S...              234   \n",
       "2  [{'StopUID': 'TPE191081', 'StopID': '191081', ...               綠1   \n",
       "3  [{'StopUID': 'TPE16915', 'StopID': '16915', 'S...               綠1   \n",
       "4  [{'StopUID': 'TPE16853', 'StopID': '16853', 'S...               綠1   \n",
       "\n",
       "  route_name_en subroute_name_zh_tw subroute_name_en  \\\n",
       "0           234                 234              234   \n",
       "1           234                 234              234   \n",
       "2            G1             綠1調度站發車               G1   \n",
       "3            G1             綠1調度站發車               G1   \n",
       "4            G1           綠1捷運新店站發車               G1   \n",
       "\n",
       "                                           stop_info  \n",
       "0  [{'StopUID': 'TPE33210', 'StopSequence': 1}, {...  \n",
       "1  [{'StopUID': 'TPE33247', 'StopSequence': 1}, {...  \n",
       "2  [{'StopUID': 'TPE191081', 'StopSequence': 1}, ...  \n",
       "3  [{'StopUID': 'TPE16915', 'StopSequence': 1}, {...  \n",
       "4  [{'StopUID': 'TPE16853', 'StopSequence': 1}, {...  "
      ],
      "text/html": "<div>\n<style scoped>\n    .dataframe tbody tr th:only-of-type {\n        vertical-align: middle;\n    }\n\n    .dataframe tbody tr th {\n        vertical-align: top;\n    }\n\n    .dataframe thead th {\n        text-align: right;\n    }\n</style>\n<table border=\"1\" class=\"dataframe\">\n  <thead>\n    <tr style=\"text-align: right;\">\n      <th></th>\n      <th>RouteUID</th>\n      <th>SubRouteUID</th>\n      <th>Direction</th>\n      <th>City</th>\n      <th>Stops</th>\n      <th>route_name_zh_tw</th>\n      <th>route_name_en</th>\n      <th>subroute_name_zh_tw</th>\n      <th>subroute_name_en</th>\n      <th>stop_info</th>\n    </tr>\n  </thead>\n  <tbody>\n    <tr>\n      <th>0</th>\n      <td>TPE10132</td>\n      <td>TPE101320</td>\n      <td>0</td>\n      <td>Taipei</td>\n      <td>[{'StopUID': 'TPE33210', 'StopID': '33210', 'S...</td>\n      <td>234</td>\n      <td>234</td>\n      <td>234</td>\n      <td>234</td>\n      <td>[{'StopUID': 'TPE33210', 'StopSequence': 1}, {...</td>\n    </tr>\n    <tr>\n      <th>1</th>\n      <td>TPE10132</td>\n      <td>TPE101320</td>\n      <td>1</td>\n      <td>Taipei</td>\n      <td>[{'StopUID': 'TPE33247', 'StopID': '33247', 'S...</td>\n      <td>234</td>\n      <td>234</td>\n      <td>234</td>\n      <td>234</td>\n      <td>[{'StopUID': 'TPE33247', 'StopSequence': 1}, {...</td>\n    </tr>\n    <tr>\n      <th>2</th>\n      <td>TPE10142</td>\n      <td>TPE10142</td>\n      <td>0</td>\n      <td>Taipei</td>\n      <td>[{'StopUID': 'TPE191081', 'StopID': '191081', ...</td>\n      <td>綠1</td>\n      <td>G1</td>\n      <td>綠1調度站發車</td>\n      <td>G1</td>\n      <td>[{'StopUID': 'TPE191081', 'StopSequence': 1}, ...</td>\n    </tr>\n    <tr>\n      <th>3</th>\n      <td>TPE10142</td>\n      <td>TPE10142</td>\n      <td>1</td>\n      <td>Taipei</td>\n      <td>[{'StopUID': 'TPE16915', 'StopID': '16915', 'S...</td>\n      <td>綠1</td>\n      <td>G1</td>\n      <td>綠1調度站發車</td>\n      <td>G1</td>\n      <td>[{'StopUID': 'TPE16915', 'StopSequence': 1}, {...</td>\n    </tr>\n    <tr>\n      <th>4</th>\n      <td>TPE10142</td>\n      <td>TPE157758</td>\n      <td>0</td>\n      <td>Taipei</td>\n      <td>[{'StopUID': 'TPE16853', 'StopID': '16853', 'S...</td>\n      <td>綠1</td>\n      <td>G1</td>\n      <td>綠1捷運新店站發車</td>\n      <td>G1</td>\n      <td>[{'StopUID': 'TPE16853', 'StopSequence': 1}, {...</td>\n    </tr>\n  </tbody>\n</table>\n</div>"
     },
     "metadata": {},
     "execution_count": 20
    }
   ],
   "source": [
    "bus_route_df.head()"
   ]
  },
  {
   "cell_type": "code",
   "execution_count": 21,
   "metadata": {},
   "outputs": [],
   "source": [
    "bus_route_df.drop(['Stops'], axis=1, inplace=True)"
   ]
  },
  {
   "cell_type": "code",
   "execution_count": 22,
   "metadata": {},
   "outputs": [],
   "source": [
    "def get_route_stop(list_of_dic: int):\n",
    "    res = [dic.get('StopUID') for dic in list_of_dic]\n",
    "    return res"
   ]
  },
  {
   "cell_type": "code",
   "execution_count": 23,
   "metadata": {},
   "outputs": [],
   "source": [
    "bus_route_df['stop_in_route'] = bus_route_df['stop_info'].apply(get_route_stop)"
   ]
  },
  {
   "source": [
    "## 市區公車之站牌資料"
   ],
   "cell_type": "markdown",
   "metadata": {}
  },
  {
   "cell_type": "code",
   "execution_count": 24,
   "metadata": {},
   "outputs": [],
   "source": [
    "if __name__ == '__main__':\n",
    "    a = Auth(app_id, app_key)\n",
    "    response = request('get', 'https://ptx.transportdata.tw/MOTC/v2/Bus/Stop/City/Taipei?$format=JSON', headers= a.get_auth_header())\n",
    "    if response.status_code == 200:\n",
    "        json = response.json()\n",
    "    else:\n",
    "        print('request failed')"
   ]
  },
  {
   "cell_type": "code",
   "execution_count": 25,
   "metadata": {},
   "outputs": [],
   "source": [
    "bus_stop_df = pd.DataFrame(json)"
   ]
  },
  {
   "cell_type": "code",
   "execution_count": 26,
   "metadata": {},
   "outputs": [
    {
     "output_type": "execute_result",
     "data": {
      "text/plain": [
       "    StopUID StopID AuthorityID  \\\n",
       "0  TPE10000  10000         004   \n",
       "1  TPE10001  10001         004   \n",
       "2  TPE10002  10002         004   \n",
       "3  TPE10003  10003         004   \n",
       "4  TPE10004  10004         004   \n",
       "\n",
       "                                            StopName  \\\n",
       "0     {'Zh_tw': '蘆洲總站', 'En': 'Luzhou Bus Terminal'}   \n",
       "1  {'Zh_tw': '南港分局(重陽)', 'En': 'Nangang Police Di...   \n",
       "2  {'Zh_tw': '王爺廟口', 'En': 'Wangye Temple Entrance'}   \n",
       "3  {'Zh_tw': '中國電視公司', 'En': 'China Television Co...   \n",
       "4     {'Zh_tw': '空中大學', 'En': 'National Open Univ.'}   \n",
       "\n",
       "                                        StopPosition            StopAddress  \\\n",
       "0  {'PositionLon': 121.465845849213, 'PositionLat...  中正路333號同向(總站旁候車亭)(向南)   \n",
       "1  {'PositionLon': 121.596717, 'PositionLat': 25....             重陽路30號(向東)   \n",
       "2  {'PositionLon': 121.46664, 'PositionLat': 25.0...              中正路295號同向   \n",
       "3  {'PositionLon': 121.59918, 'PositionLat': 25.0...              重陽路120號同向   \n",
       "4  {'PositionLon': 121.4677982, 'PositionLat': 25...              中正路261號同向   \n",
       "\n",
       "  Bearing StationID    City CityCode LocationCityCode  \\\n",
       "0       E      3698  Taipei      TPE              NWT   \n",
       "1       E      8627  Taipei      TPE              TPE   \n",
       "2       S      3655  Taipei      TPE              NWT   \n",
       "3       E      1612  Taipei      TPE              TPE   \n",
       "4       E      3670  Taipei      TPE              NWT   \n",
       "\n",
       "                  UpdateTime  VersionID  \n",
       "0  2021-05-13T04:22:39+08:00       1114  \n",
       "1  2021-05-13T04:22:39+08:00       1114  \n",
       "2  2021-05-13T04:22:39+08:00       1114  \n",
       "3  2021-05-13T04:22:39+08:00       1114  \n",
       "4  2021-05-13T04:22:39+08:00       1114  "
      ],
      "text/html": "<div>\n<style scoped>\n    .dataframe tbody tr th:only-of-type {\n        vertical-align: middle;\n    }\n\n    .dataframe tbody tr th {\n        vertical-align: top;\n    }\n\n    .dataframe thead th {\n        text-align: right;\n    }\n</style>\n<table border=\"1\" class=\"dataframe\">\n  <thead>\n    <tr style=\"text-align: right;\">\n      <th></th>\n      <th>StopUID</th>\n      <th>StopID</th>\n      <th>AuthorityID</th>\n      <th>StopName</th>\n      <th>StopPosition</th>\n      <th>StopAddress</th>\n      <th>Bearing</th>\n      <th>StationID</th>\n      <th>City</th>\n      <th>CityCode</th>\n      <th>LocationCityCode</th>\n      <th>UpdateTime</th>\n      <th>VersionID</th>\n    </tr>\n  </thead>\n  <tbody>\n    <tr>\n      <th>0</th>\n      <td>TPE10000</td>\n      <td>10000</td>\n      <td>004</td>\n      <td>{'Zh_tw': '蘆洲總站', 'En': 'Luzhou Bus Terminal'}</td>\n      <td>{'PositionLon': 121.465845849213, 'PositionLat...</td>\n      <td>中正路333號同向(總站旁候車亭)(向南)</td>\n      <td>E</td>\n      <td>3698</td>\n      <td>Taipei</td>\n      <td>TPE</td>\n      <td>NWT</td>\n      <td>2021-05-13T04:22:39+08:00</td>\n      <td>1114</td>\n    </tr>\n    <tr>\n      <th>1</th>\n      <td>TPE10001</td>\n      <td>10001</td>\n      <td>004</td>\n      <td>{'Zh_tw': '南港分局(重陽)', 'En': 'Nangang Police Di...</td>\n      <td>{'PositionLon': 121.596717, 'PositionLat': 25....</td>\n      <td>重陽路30號(向東)</td>\n      <td>E</td>\n      <td>8627</td>\n      <td>Taipei</td>\n      <td>TPE</td>\n      <td>TPE</td>\n      <td>2021-05-13T04:22:39+08:00</td>\n      <td>1114</td>\n    </tr>\n    <tr>\n      <th>2</th>\n      <td>TPE10002</td>\n      <td>10002</td>\n      <td>004</td>\n      <td>{'Zh_tw': '王爺廟口', 'En': 'Wangye Temple Entrance'}</td>\n      <td>{'PositionLon': 121.46664, 'PositionLat': 25.0...</td>\n      <td>中正路295號同向</td>\n      <td>S</td>\n      <td>3655</td>\n      <td>Taipei</td>\n      <td>TPE</td>\n      <td>NWT</td>\n      <td>2021-05-13T04:22:39+08:00</td>\n      <td>1114</td>\n    </tr>\n    <tr>\n      <th>3</th>\n      <td>TPE10003</td>\n      <td>10003</td>\n      <td>004</td>\n      <td>{'Zh_tw': '中國電視公司', 'En': 'China Television Co...</td>\n      <td>{'PositionLon': 121.59918, 'PositionLat': 25.0...</td>\n      <td>重陽路120號同向</td>\n      <td>E</td>\n      <td>1612</td>\n      <td>Taipei</td>\n      <td>TPE</td>\n      <td>TPE</td>\n      <td>2021-05-13T04:22:39+08:00</td>\n      <td>1114</td>\n    </tr>\n    <tr>\n      <th>4</th>\n      <td>TPE10004</td>\n      <td>10004</td>\n      <td>004</td>\n      <td>{'Zh_tw': '空中大學', 'En': 'National Open Univ.'}</td>\n      <td>{'PositionLon': 121.4677982, 'PositionLat': 25...</td>\n      <td>中正路261號同向</td>\n      <td>E</td>\n      <td>3670</td>\n      <td>Taipei</td>\n      <td>TPE</td>\n      <td>NWT</td>\n      <td>2021-05-13T04:22:39+08:00</td>\n      <td>1114</td>\n    </tr>\n  </tbody>\n</table>\n</div>"
     },
     "metadata": {},
     "execution_count": 26
    }
   ],
   "source": [
    "bus_stop_df.head()"
   ]
  },
  {
   "cell_type": "code",
   "execution_count": 27,
   "metadata": {},
   "outputs": [],
   "source": [
    "bus_stop_df = bus_stop_df[['StopUID', 'StopName', 'StopPosition', 'StationID', 'City']]"
   ]
  },
  {
   "cell_type": "code",
   "execution_count": 28,
   "metadata": {},
   "outputs": [],
   "source": [
    "name_df = pd.DataFrame(bus_stop_df['StopName'].tolist())\n",
    "name_df.columns = ['stop_name_zh_tw', 'stop_name_en']\n",
    "position_df = pd.DataFrame(bus_stop_df['StopPosition'].tolist())                                      \n",
    "position_df.columns = ['PositionLon', 'PositionLat', 'GeoHash']"
   ]
  },
  {
   "cell_type": "code",
   "execution_count": 29,
   "metadata": {},
   "outputs": [],
   "source": [
    "bus_stop_df.drop(['StopName', 'StopPosition'], axis=1, inplace=True)"
   ]
  },
  {
   "cell_type": "code",
   "execution_count": 30,
   "metadata": {},
   "outputs": [],
   "source": [
    "bus_stop_df = pd.concat([bus_stop_df, name_df], axis=1)\n",
    "bus_stop_df = pd.concat([bus_stop_df, position_df], axis=1)"
   ]
  },
  {
   "cell_type": "code",
   "execution_count": 31,
   "metadata": {},
   "outputs": [
    {
     "output_type": "execute_result",
     "data": {
      "text/plain": [
       "        StopUID StationID    City stop_name_zh_tw  \\\n",
       "0      TPE10000      3698  Taipei            蘆洲總站   \n",
       "1      TPE10001      8627  Taipei        南港分局(重陽)   \n",
       "2      TPE10002      3655  Taipei            王爺廟口   \n",
       "3      TPE10003      1612  Taipei          中國電視公司   \n",
       "4      TPE10004      3670  Taipei            空中大學   \n",
       "...         ...       ...     ...             ...   \n",
       "27287  TPE59942   1000541  Taipei        萬壽橋頭(木柵)   \n",
       "27288  TPE59943   1000521  Taipei        萬壽橋頭(木柵)   \n",
       "27289  TPE59944   1000541  Taipei        萬壽橋頭(木柵)   \n",
       "27290  TPE59945   1000521  Taipei        萬壽橋頭(木柵)   \n",
       "27291  TPE59948      1069  Taipei             金龍寺   \n",
       "\n",
       "                          stop_name_en  PositionLon  PositionLat    GeoHash  \n",
       "0                  Luzhou Bus Terminal   121.465846    25.089107  wsqqsp2dx  \n",
       "1      Nangang Police Dist.(Chongyang)   121.596717    25.055561  wsqqx10p0  \n",
       "2               Wangye Temple Entrance   121.466640    25.088140  wsqqsp1m1  \n",
       "3             China Television Company   121.599180    25.056460  wsqqx13u6  \n",
       "4                  National Open Univ.   121.467798    25.086711  wsqqsnfhs  \n",
       "...                                ...          ...          ...        ...  \n",
       "27287           Wanshou Qiaotou（Muzha）   121.571115    24.991314  wsqqnmt2u  \n",
       "27288           Wanshou Qiaotou（Muzha）   121.570973    24.991309  wsqqnmt2b  \n",
       "27289           Wanshou Qiaotou（Muzha）   121.571115    24.991314  wsqqnmt2u  \n",
       "27290           Wanshou Qiaotou（Muzha）   121.570973    24.991309  wsqqnmt2b  \n",
       "27291                   Jinlong Temple   121.586538    25.088568  wsqqwz0xe  \n",
       "\n",
       "[27292 rows x 8 columns]"
      ],
      "text/html": "<div>\n<style scoped>\n    .dataframe tbody tr th:only-of-type {\n        vertical-align: middle;\n    }\n\n    .dataframe tbody tr th {\n        vertical-align: top;\n    }\n\n    .dataframe thead th {\n        text-align: right;\n    }\n</style>\n<table border=\"1\" class=\"dataframe\">\n  <thead>\n    <tr style=\"text-align: right;\">\n      <th></th>\n      <th>StopUID</th>\n      <th>StationID</th>\n      <th>City</th>\n      <th>stop_name_zh_tw</th>\n      <th>stop_name_en</th>\n      <th>PositionLon</th>\n      <th>PositionLat</th>\n      <th>GeoHash</th>\n    </tr>\n  </thead>\n  <tbody>\n    <tr>\n      <th>0</th>\n      <td>TPE10000</td>\n      <td>3698</td>\n      <td>Taipei</td>\n      <td>蘆洲總站</td>\n      <td>Luzhou Bus Terminal</td>\n      <td>121.465846</td>\n      <td>25.089107</td>\n      <td>wsqqsp2dx</td>\n    </tr>\n    <tr>\n      <th>1</th>\n      <td>TPE10001</td>\n      <td>8627</td>\n      <td>Taipei</td>\n      <td>南港分局(重陽)</td>\n      <td>Nangang Police Dist.(Chongyang)</td>\n      <td>121.596717</td>\n      <td>25.055561</td>\n      <td>wsqqx10p0</td>\n    </tr>\n    <tr>\n      <th>2</th>\n      <td>TPE10002</td>\n      <td>3655</td>\n      <td>Taipei</td>\n      <td>王爺廟口</td>\n      <td>Wangye Temple Entrance</td>\n      <td>121.466640</td>\n      <td>25.088140</td>\n      <td>wsqqsp1m1</td>\n    </tr>\n    <tr>\n      <th>3</th>\n      <td>TPE10003</td>\n      <td>1612</td>\n      <td>Taipei</td>\n      <td>中國電視公司</td>\n      <td>China Television Company</td>\n      <td>121.599180</td>\n      <td>25.056460</td>\n      <td>wsqqx13u6</td>\n    </tr>\n    <tr>\n      <th>4</th>\n      <td>TPE10004</td>\n      <td>3670</td>\n      <td>Taipei</td>\n      <td>空中大學</td>\n      <td>National Open Univ.</td>\n      <td>121.467798</td>\n      <td>25.086711</td>\n      <td>wsqqsnfhs</td>\n    </tr>\n    <tr>\n      <th>...</th>\n      <td>...</td>\n      <td>...</td>\n      <td>...</td>\n      <td>...</td>\n      <td>...</td>\n      <td>...</td>\n      <td>...</td>\n      <td>...</td>\n    </tr>\n    <tr>\n      <th>27287</th>\n      <td>TPE59942</td>\n      <td>1000541</td>\n      <td>Taipei</td>\n      <td>萬壽橋頭(木柵)</td>\n      <td>Wanshou Qiaotou（Muzha）</td>\n      <td>121.571115</td>\n      <td>24.991314</td>\n      <td>wsqqnmt2u</td>\n    </tr>\n    <tr>\n      <th>27288</th>\n      <td>TPE59943</td>\n      <td>1000521</td>\n      <td>Taipei</td>\n      <td>萬壽橋頭(木柵)</td>\n      <td>Wanshou Qiaotou（Muzha）</td>\n      <td>121.570973</td>\n      <td>24.991309</td>\n      <td>wsqqnmt2b</td>\n    </tr>\n    <tr>\n      <th>27289</th>\n      <td>TPE59944</td>\n      <td>1000541</td>\n      <td>Taipei</td>\n      <td>萬壽橋頭(木柵)</td>\n      <td>Wanshou Qiaotou（Muzha）</td>\n      <td>121.571115</td>\n      <td>24.991314</td>\n      <td>wsqqnmt2u</td>\n    </tr>\n    <tr>\n      <th>27290</th>\n      <td>TPE59945</td>\n      <td>1000521</td>\n      <td>Taipei</td>\n      <td>萬壽橋頭(木柵)</td>\n      <td>Wanshou Qiaotou（Muzha）</td>\n      <td>121.570973</td>\n      <td>24.991309</td>\n      <td>wsqqnmt2b</td>\n    </tr>\n    <tr>\n      <th>27291</th>\n      <td>TPE59948</td>\n      <td>1069</td>\n      <td>Taipei</td>\n      <td>金龍寺</td>\n      <td>Jinlong Temple</td>\n      <td>121.586538</td>\n      <td>25.088568</td>\n      <td>wsqqwz0xe</td>\n    </tr>\n  </tbody>\n</table>\n<p>27292 rows × 8 columns</p>\n</div>"
     },
     "metadata": {},
     "execution_count": 31
    }
   ],
   "source": [
    "bus_stop_df"
   ]
  },
  {
   "source": [
    "## Merge bus stop and bus route dataframe"
   ],
   "cell_type": "markdown",
   "metadata": {}
  },
  {
   "cell_type": "code",
   "execution_count": 32,
   "metadata": {},
   "outputs": [
    {
     "output_type": "execute_result",
     "data": {
      "text/plain": [
       "   RouteUID SubRouteUID  Direction    City route_name_zh_tw route_name_en  \\\n",
       "0  TPE10132   TPE101320          0  Taipei              234           234   \n",
       "1  TPE10132   TPE101320          1  Taipei              234           234   \n",
       "2  TPE10142    TPE10142          0  Taipei               綠1            G1   \n",
       "3  TPE10142    TPE10142          1  Taipei               綠1            G1   \n",
       "4  TPE10142   TPE157758          0  Taipei               綠1            G1   \n",
       "\n",
       "  subroute_name_zh_tw subroute_name_en  \\\n",
       "0                 234              234   \n",
       "1                 234              234   \n",
       "2             綠1調度站發車               G1   \n",
       "3             綠1調度站發車               G1   \n",
       "4           綠1捷運新店站發車               G1   \n",
       "\n",
       "                                           stop_info  \\\n",
       "0  [{'StopUID': 'TPE33210', 'StopSequence': 1}, {...   \n",
       "1  [{'StopUID': 'TPE33247', 'StopSequence': 1}, {...   \n",
       "2  [{'StopUID': 'TPE191081', 'StopSequence': 1}, ...   \n",
       "3  [{'StopUID': 'TPE16915', 'StopSequence': 1}, {...   \n",
       "4  [{'StopUID': 'TPE16853', 'StopSequence': 1}, {...   \n",
       "\n",
       "                                       stop_in_route  \n",
       "0  [TPE33210, TPE33211, TPE33212, TPE33213, TPE33...  \n",
       "1  [TPE33247, TPE33248, TPE33249, TPE33250, TPE33...  \n",
       "2  [TPE191081, TPE56987, TPE16823, TPE16825, TPE1...  \n",
       "3  [TPE16915, TPE16917, TPE16919, TPE57417, TPE16...  \n",
       "4  [TPE16853, TPE16855, TPE16857, TPE16859, TPE16...  "
      ],
      "text/html": "<div>\n<style scoped>\n    .dataframe tbody tr th:only-of-type {\n        vertical-align: middle;\n    }\n\n    .dataframe tbody tr th {\n        vertical-align: top;\n    }\n\n    .dataframe thead th {\n        text-align: right;\n    }\n</style>\n<table border=\"1\" class=\"dataframe\">\n  <thead>\n    <tr style=\"text-align: right;\">\n      <th></th>\n      <th>RouteUID</th>\n      <th>SubRouteUID</th>\n      <th>Direction</th>\n      <th>City</th>\n      <th>route_name_zh_tw</th>\n      <th>route_name_en</th>\n      <th>subroute_name_zh_tw</th>\n      <th>subroute_name_en</th>\n      <th>stop_info</th>\n      <th>stop_in_route</th>\n    </tr>\n  </thead>\n  <tbody>\n    <tr>\n      <th>0</th>\n      <td>TPE10132</td>\n      <td>TPE101320</td>\n      <td>0</td>\n      <td>Taipei</td>\n      <td>234</td>\n      <td>234</td>\n      <td>234</td>\n      <td>234</td>\n      <td>[{'StopUID': 'TPE33210', 'StopSequence': 1}, {...</td>\n      <td>[TPE33210, TPE33211, TPE33212, TPE33213, TPE33...</td>\n    </tr>\n    <tr>\n      <th>1</th>\n      <td>TPE10132</td>\n      <td>TPE101320</td>\n      <td>1</td>\n      <td>Taipei</td>\n      <td>234</td>\n      <td>234</td>\n      <td>234</td>\n      <td>234</td>\n      <td>[{'StopUID': 'TPE33247', 'StopSequence': 1}, {...</td>\n      <td>[TPE33247, TPE33248, TPE33249, TPE33250, TPE33...</td>\n    </tr>\n    <tr>\n      <th>2</th>\n      <td>TPE10142</td>\n      <td>TPE10142</td>\n      <td>0</td>\n      <td>Taipei</td>\n      <td>綠1</td>\n      <td>G1</td>\n      <td>綠1調度站發車</td>\n      <td>G1</td>\n      <td>[{'StopUID': 'TPE191081', 'StopSequence': 1}, ...</td>\n      <td>[TPE191081, TPE56987, TPE16823, TPE16825, TPE1...</td>\n    </tr>\n    <tr>\n      <th>3</th>\n      <td>TPE10142</td>\n      <td>TPE10142</td>\n      <td>1</td>\n      <td>Taipei</td>\n      <td>綠1</td>\n      <td>G1</td>\n      <td>綠1調度站發車</td>\n      <td>G1</td>\n      <td>[{'StopUID': 'TPE16915', 'StopSequence': 1}, {...</td>\n      <td>[TPE16915, TPE16917, TPE16919, TPE57417, TPE16...</td>\n    </tr>\n    <tr>\n      <th>4</th>\n      <td>TPE10142</td>\n      <td>TPE157758</td>\n      <td>0</td>\n      <td>Taipei</td>\n      <td>綠1</td>\n      <td>G1</td>\n      <td>綠1捷運新店站發車</td>\n      <td>G1</td>\n      <td>[{'StopUID': 'TPE16853', 'StopSequence': 1}, {...</td>\n      <td>[TPE16853, TPE16855, TPE16857, TPE16859, TPE16...</td>\n    </tr>\n  </tbody>\n</table>\n</div>"
     },
     "metadata": {},
     "execution_count": 32
    }
   ],
   "source": [
    "bus_route_df.head()"
   ]
  },
  {
   "cell_type": "code",
   "execution_count": 33,
   "metadata": {},
   "outputs": [],
   "source": [
    "def flattenColumn(df, column):\n",
    "    \"\"\"\n",
    "    column is a string of the column's name.\n",
    "    for each value of the column's element (which might be a list),\n",
    "    duplicate the rest of columns at the corresponding row with the (each) value.\n",
    "    \"\"\"\n",
    "    column_flat = pd.DataFrame(\n",
    "        [\n",
    "            [i, c_flattened]\n",
    "            for i, y in df[column].apply(list).iteritems()\n",
    "            for c_flattened in y\n",
    "        ],\n",
    "        columns=['I', column]\n",
    "    )\n",
    "    column_flat = column_flat.set_index('I')\n",
    "    return (\n",
    "        df.drop(column, 1)\n",
    "             .merge(column_flat, left_index=True, right_index=True)\n",
    "    )"
   ]
  },
  {
   "cell_type": "code",
   "execution_count": 34,
   "metadata": {},
   "outputs": [],
   "source": [
    "bus_route_df = flattenColumn(bus_route_df, 'stop_in_route')"
   ]
  },
  {
   "cell_type": "code",
   "execution_count": 35,
   "metadata": {},
   "outputs": [],
   "source": [
    "final_df = bus_stop_df.merge(bus_route_df, left_on='StopUID', right_on='stop_in_route', how='left')"
   ]
  },
  {
   "cell_type": "code",
   "execution_count": 36,
   "metadata": {},
   "outputs": [
    {
     "output_type": "execute_result",
     "data": {
      "text/plain": [
       "    StopUID StationID  City_x stop_name_zh_tw  \\\n",
       "0  TPE10000      3698  Taipei            蘆洲總站   \n",
       "1  TPE10000      3698  Taipei            蘆洲總站   \n",
       "2  TPE10001      8627  Taipei        南港分局(重陽)   \n",
       "3  TPE10002      3655  Taipei            王爺廟口   \n",
       "4  TPE10002      3655  Taipei            王爺廟口   \n",
       "\n",
       "                      stop_name_en  PositionLon  PositionLat    GeoHash  \\\n",
       "0              Luzhou Bus Terminal   121.465846    25.089107  wsqqsp2dx   \n",
       "1              Luzhou Bus Terminal   121.465846    25.089107  wsqqsp2dx   \n",
       "2  Nangang Police Dist.(Chongyang)   121.596717    25.055561  wsqqx10p0   \n",
       "3           Wangye Temple Entrance   121.466640    25.088140  wsqqsp1m1   \n",
       "4           Wangye Temple Entrance   121.466640    25.088140  wsqqsp1m1   \n",
       "\n",
       "   RouteUID SubRouteUID  Direction  City_y route_name_zh_tw  \\\n",
       "0  TPE10443    TPE10443          0  Taipei              225   \n",
       "1  TPE10443   TPE159519          0  Taipei              225   \n",
       "2  TPE10231    TPE10231          0  Taipei             民權幹線   \n",
       "3  TPE10443    TPE10443          0  Taipei              225   \n",
       "4  TPE10443   TPE159519          0  Taipei              225   \n",
       "\n",
       "       route_name_en subroute_name_zh_tw   subroute_name_en  \\\n",
       "0                225                 225                225   \n",
       "1                225             225狗狗公車                225   \n",
       "2  Minquan Metro Bus                民權幹線  Minquan Metro Bus   \n",
       "3                225                 225                225   \n",
       "4                225             225狗狗公車                225   \n",
       "\n",
       "                                           stop_info stop_in_route  \n",
       "0  [{'StopUID': 'TPE148864', 'StopSequence': 1}, ...      TPE10000  \n",
       "1  [{'StopUID': 'TPE148864', 'StopSequence': 1}, ...      TPE10000  \n",
       "2  [{'StopUID': 'TPE151077', 'StopSequence': 1}, ...      TPE10001  \n",
       "3  [{'StopUID': 'TPE148864', 'StopSequence': 1}, ...      TPE10002  \n",
       "4  [{'StopUID': 'TPE148864', 'StopSequence': 1}, ...      TPE10002  "
      ],
      "text/html": "<div>\n<style scoped>\n    .dataframe tbody tr th:only-of-type {\n        vertical-align: middle;\n    }\n\n    .dataframe tbody tr th {\n        vertical-align: top;\n    }\n\n    .dataframe thead th {\n        text-align: right;\n    }\n</style>\n<table border=\"1\" class=\"dataframe\">\n  <thead>\n    <tr style=\"text-align: right;\">\n      <th></th>\n      <th>StopUID</th>\n      <th>StationID</th>\n      <th>City_x</th>\n      <th>stop_name_zh_tw</th>\n      <th>stop_name_en</th>\n      <th>PositionLon</th>\n      <th>PositionLat</th>\n      <th>GeoHash</th>\n      <th>RouteUID</th>\n      <th>SubRouteUID</th>\n      <th>Direction</th>\n      <th>City_y</th>\n      <th>route_name_zh_tw</th>\n      <th>route_name_en</th>\n      <th>subroute_name_zh_tw</th>\n      <th>subroute_name_en</th>\n      <th>stop_info</th>\n      <th>stop_in_route</th>\n    </tr>\n  </thead>\n  <tbody>\n    <tr>\n      <th>0</th>\n      <td>TPE10000</td>\n      <td>3698</td>\n      <td>Taipei</td>\n      <td>蘆洲總站</td>\n      <td>Luzhou Bus Terminal</td>\n      <td>121.465846</td>\n      <td>25.089107</td>\n      <td>wsqqsp2dx</td>\n      <td>TPE10443</td>\n      <td>TPE10443</td>\n      <td>0</td>\n      <td>Taipei</td>\n      <td>225</td>\n      <td>225</td>\n      <td>225</td>\n      <td>225</td>\n      <td>[{'StopUID': 'TPE148864', 'StopSequence': 1}, ...</td>\n      <td>TPE10000</td>\n    </tr>\n    <tr>\n      <th>1</th>\n      <td>TPE10000</td>\n      <td>3698</td>\n      <td>Taipei</td>\n      <td>蘆洲總站</td>\n      <td>Luzhou Bus Terminal</td>\n      <td>121.465846</td>\n      <td>25.089107</td>\n      <td>wsqqsp2dx</td>\n      <td>TPE10443</td>\n      <td>TPE159519</td>\n      <td>0</td>\n      <td>Taipei</td>\n      <td>225</td>\n      <td>225</td>\n      <td>225狗狗公車</td>\n      <td>225</td>\n      <td>[{'StopUID': 'TPE148864', 'StopSequence': 1}, ...</td>\n      <td>TPE10000</td>\n    </tr>\n    <tr>\n      <th>2</th>\n      <td>TPE10001</td>\n      <td>8627</td>\n      <td>Taipei</td>\n      <td>南港分局(重陽)</td>\n      <td>Nangang Police Dist.(Chongyang)</td>\n      <td>121.596717</td>\n      <td>25.055561</td>\n      <td>wsqqx10p0</td>\n      <td>TPE10231</td>\n      <td>TPE10231</td>\n      <td>0</td>\n      <td>Taipei</td>\n      <td>民權幹線</td>\n      <td>Minquan Metro Bus</td>\n      <td>民權幹線</td>\n      <td>Minquan Metro Bus</td>\n      <td>[{'StopUID': 'TPE151077', 'StopSequence': 1}, ...</td>\n      <td>TPE10001</td>\n    </tr>\n    <tr>\n      <th>3</th>\n      <td>TPE10002</td>\n      <td>3655</td>\n      <td>Taipei</td>\n      <td>王爺廟口</td>\n      <td>Wangye Temple Entrance</td>\n      <td>121.466640</td>\n      <td>25.088140</td>\n      <td>wsqqsp1m1</td>\n      <td>TPE10443</td>\n      <td>TPE10443</td>\n      <td>0</td>\n      <td>Taipei</td>\n      <td>225</td>\n      <td>225</td>\n      <td>225</td>\n      <td>225</td>\n      <td>[{'StopUID': 'TPE148864', 'StopSequence': 1}, ...</td>\n      <td>TPE10002</td>\n    </tr>\n    <tr>\n      <th>4</th>\n      <td>TPE10002</td>\n      <td>3655</td>\n      <td>Taipei</td>\n      <td>王爺廟口</td>\n      <td>Wangye Temple Entrance</td>\n      <td>121.466640</td>\n      <td>25.088140</td>\n      <td>wsqqsp1m1</td>\n      <td>TPE10443</td>\n      <td>TPE159519</td>\n      <td>0</td>\n      <td>Taipei</td>\n      <td>225</td>\n      <td>225</td>\n      <td>225狗狗公車</td>\n      <td>225</td>\n      <td>[{'StopUID': 'TPE148864', 'StopSequence': 1}, ...</td>\n      <td>TPE10002</td>\n    </tr>\n  </tbody>\n</table>\n</div>"
     },
     "metadata": {},
     "execution_count": 36
    }
   ],
   "source": [
    "final_df.head()"
   ]
  },
  {
   "cell_type": "code",
   "execution_count": 37,
   "metadata": {},
   "outputs": [],
   "source": [
    "def get_order_in_route(StopUID, stop_info: int):\n",
    "    for dic in stop_info:\n",
    "        if dic.get('StopUID')==StopUID:\n",
    "            res = dic.get('StopSequence')\n",
    "        else:\n",
    "            pass\n",
    "    return res"
   ]
  },
  {
   "cell_type": "code",
   "execution_count": 38,
   "metadata": {},
   "outputs": [],
   "source": [
    "final_df['order_in_route'] = final_df[['StopUID' , 'stop_info']].apply(lambda x: get_order_in_route(x['StopUID'], x['stop_info']), axis=1)"
   ]
  },
  {
   "cell_type": "code",
   "execution_count": 39,
   "metadata": {},
   "outputs": [
    {
     "output_type": "execute_result",
     "data": {
      "text/plain": [
       "    StopUID StationID  City_x stop_name_zh_tw  \\\n",
       "0  TPE10000      3698  Taipei            蘆洲總站   \n",
       "1  TPE10000      3698  Taipei            蘆洲總站   \n",
       "2  TPE10001      8627  Taipei        南港分局(重陽)   \n",
       "3  TPE10002      3655  Taipei            王爺廟口   \n",
       "4  TPE10002      3655  Taipei            王爺廟口   \n",
       "\n",
       "                      stop_name_en  PositionLon  PositionLat    GeoHash  \\\n",
       "0              Luzhou Bus Terminal   121.465846    25.089107  wsqqsp2dx   \n",
       "1              Luzhou Bus Terminal   121.465846    25.089107  wsqqsp2dx   \n",
       "2  Nangang Police Dist.(Chongyang)   121.596717    25.055561  wsqqx10p0   \n",
       "3           Wangye Temple Entrance   121.466640    25.088140  wsqqsp1m1   \n",
       "4           Wangye Temple Entrance   121.466640    25.088140  wsqqsp1m1   \n",
       "\n",
       "   RouteUID SubRouteUID  Direction  City_y route_name_zh_tw  \\\n",
       "0  TPE10443    TPE10443          0  Taipei              225   \n",
       "1  TPE10443   TPE159519          0  Taipei              225   \n",
       "2  TPE10231    TPE10231          0  Taipei             民權幹線   \n",
       "3  TPE10443    TPE10443          0  Taipei              225   \n",
       "4  TPE10443   TPE159519          0  Taipei              225   \n",
       "\n",
       "       route_name_en subroute_name_zh_tw   subroute_name_en  \\\n",
       "0                225                 225                225   \n",
       "1                225             225狗狗公車                225   \n",
       "2  Minquan Metro Bus                民權幹線  Minquan Metro Bus   \n",
       "3                225                 225                225   \n",
       "4                225             225狗狗公車                225   \n",
       "\n",
       "                                           stop_info stop_in_route  \\\n",
       "0  [{'StopUID': 'TPE148864', 'StopSequence': 1}, ...      TPE10000   \n",
       "1  [{'StopUID': 'TPE148864', 'StopSequence': 1}, ...      TPE10000   \n",
       "2  [{'StopUID': 'TPE151077', 'StopSequence': 1}, ...      TPE10001   \n",
       "3  [{'StopUID': 'TPE148864', 'StopSequence': 1}, ...      TPE10002   \n",
       "4  [{'StopUID': 'TPE148864', 'StopSequence': 1}, ...      TPE10002   \n",
       "\n",
       "   order_in_route  \n",
       "0              10  \n",
       "1              10  \n",
       "2               2  \n",
       "3              11  \n",
       "4              11  "
      ],
      "text/html": "<div>\n<style scoped>\n    .dataframe tbody tr th:only-of-type {\n        vertical-align: middle;\n    }\n\n    .dataframe tbody tr th {\n        vertical-align: top;\n    }\n\n    .dataframe thead th {\n        text-align: right;\n    }\n</style>\n<table border=\"1\" class=\"dataframe\">\n  <thead>\n    <tr style=\"text-align: right;\">\n      <th></th>\n      <th>StopUID</th>\n      <th>StationID</th>\n      <th>City_x</th>\n      <th>stop_name_zh_tw</th>\n      <th>stop_name_en</th>\n      <th>PositionLon</th>\n      <th>PositionLat</th>\n      <th>GeoHash</th>\n      <th>RouteUID</th>\n      <th>SubRouteUID</th>\n      <th>Direction</th>\n      <th>City_y</th>\n      <th>route_name_zh_tw</th>\n      <th>route_name_en</th>\n      <th>subroute_name_zh_tw</th>\n      <th>subroute_name_en</th>\n      <th>stop_info</th>\n      <th>stop_in_route</th>\n      <th>order_in_route</th>\n    </tr>\n  </thead>\n  <tbody>\n    <tr>\n      <th>0</th>\n      <td>TPE10000</td>\n      <td>3698</td>\n      <td>Taipei</td>\n      <td>蘆洲總站</td>\n      <td>Luzhou Bus Terminal</td>\n      <td>121.465846</td>\n      <td>25.089107</td>\n      <td>wsqqsp2dx</td>\n      <td>TPE10443</td>\n      <td>TPE10443</td>\n      <td>0</td>\n      <td>Taipei</td>\n      <td>225</td>\n      <td>225</td>\n      <td>225</td>\n      <td>225</td>\n      <td>[{'StopUID': 'TPE148864', 'StopSequence': 1}, ...</td>\n      <td>TPE10000</td>\n      <td>10</td>\n    </tr>\n    <tr>\n      <th>1</th>\n      <td>TPE10000</td>\n      <td>3698</td>\n      <td>Taipei</td>\n      <td>蘆洲總站</td>\n      <td>Luzhou Bus Terminal</td>\n      <td>121.465846</td>\n      <td>25.089107</td>\n      <td>wsqqsp2dx</td>\n      <td>TPE10443</td>\n      <td>TPE159519</td>\n      <td>0</td>\n      <td>Taipei</td>\n      <td>225</td>\n      <td>225</td>\n      <td>225狗狗公車</td>\n      <td>225</td>\n      <td>[{'StopUID': 'TPE148864', 'StopSequence': 1}, ...</td>\n      <td>TPE10000</td>\n      <td>10</td>\n    </tr>\n    <tr>\n      <th>2</th>\n      <td>TPE10001</td>\n      <td>8627</td>\n      <td>Taipei</td>\n      <td>南港分局(重陽)</td>\n      <td>Nangang Police Dist.(Chongyang)</td>\n      <td>121.596717</td>\n      <td>25.055561</td>\n      <td>wsqqx10p0</td>\n      <td>TPE10231</td>\n      <td>TPE10231</td>\n      <td>0</td>\n      <td>Taipei</td>\n      <td>民權幹線</td>\n      <td>Minquan Metro Bus</td>\n      <td>民權幹線</td>\n      <td>Minquan Metro Bus</td>\n      <td>[{'StopUID': 'TPE151077', 'StopSequence': 1}, ...</td>\n      <td>TPE10001</td>\n      <td>2</td>\n    </tr>\n    <tr>\n      <th>3</th>\n      <td>TPE10002</td>\n      <td>3655</td>\n      <td>Taipei</td>\n      <td>王爺廟口</td>\n      <td>Wangye Temple Entrance</td>\n      <td>121.466640</td>\n      <td>25.088140</td>\n      <td>wsqqsp1m1</td>\n      <td>TPE10443</td>\n      <td>TPE10443</td>\n      <td>0</td>\n      <td>Taipei</td>\n      <td>225</td>\n      <td>225</td>\n      <td>225</td>\n      <td>225</td>\n      <td>[{'StopUID': 'TPE148864', 'StopSequence': 1}, ...</td>\n      <td>TPE10002</td>\n      <td>11</td>\n    </tr>\n    <tr>\n      <th>4</th>\n      <td>TPE10002</td>\n      <td>3655</td>\n      <td>Taipei</td>\n      <td>王爺廟口</td>\n      <td>Wangye Temple Entrance</td>\n      <td>121.466640</td>\n      <td>25.088140</td>\n      <td>wsqqsp1m1</td>\n      <td>TPE10443</td>\n      <td>TPE159519</td>\n      <td>0</td>\n      <td>Taipei</td>\n      <td>225</td>\n      <td>225</td>\n      <td>225狗狗公車</td>\n      <td>225</td>\n      <td>[{'StopUID': 'TPE148864', 'StopSequence': 1}, ...</td>\n      <td>TPE10002</td>\n      <td>11</td>\n    </tr>\n  </tbody>\n</table>\n</div>"
     },
     "metadata": {},
     "execution_count": 39
    }
   ],
   "source": [
    "final_df.head()"
   ]
  },
  {
   "cell_type": "code",
   "execution_count": 40,
   "metadata": {},
   "outputs": [],
   "source": [
    "def extract_mrt_stop(stop_name_zh_tw: str):\n",
    "    if re.match(r'捷運(.)+', stop_name_zh_tw):\n",
    "        res = True\n",
    "    else:\n",
    "        res = False\n",
    "    return res"
   ]
  },
  {
   "cell_type": "code",
   "execution_count": 41,
   "metadata": {},
   "outputs": [],
   "source": [
    "final_df['mrt_bus_stop'] = final_df['stop_name_zh_tw'].apply(extract_mrt_stop)"
   ]
  },
  {
   "cell_type": "code",
   "execution_count": 42,
   "metadata": {},
   "outputs": [
    {
     "output_type": "execute_result",
     "data": {
      "text/plain": [
       "    StopUID StationID  City_x stop_name_zh_tw  \\\n",
       "0  TPE10000      3698  Taipei            蘆洲總站   \n",
       "1  TPE10000      3698  Taipei            蘆洲總站   \n",
       "2  TPE10001      8627  Taipei        南港分局(重陽)   \n",
       "3  TPE10002      3655  Taipei            王爺廟口   \n",
       "4  TPE10002      3655  Taipei            王爺廟口   \n",
       "\n",
       "                      stop_name_en  PositionLon  PositionLat    GeoHash  \\\n",
       "0              Luzhou Bus Terminal   121.465846    25.089107  wsqqsp2dx   \n",
       "1              Luzhou Bus Terminal   121.465846    25.089107  wsqqsp2dx   \n",
       "2  Nangang Police Dist.(Chongyang)   121.596717    25.055561  wsqqx10p0   \n",
       "3           Wangye Temple Entrance   121.466640    25.088140  wsqqsp1m1   \n",
       "4           Wangye Temple Entrance   121.466640    25.088140  wsqqsp1m1   \n",
       "\n",
       "   RouteUID SubRouteUID  Direction  City_y route_name_zh_tw  \\\n",
       "0  TPE10443    TPE10443          0  Taipei              225   \n",
       "1  TPE10443   TPE159519          0  Taipei              225   \n",
       "2  TPE10231    TPE10231          0  Taipei             民權幹線   \n",
       "3  TPE10443    TPE10443          0  Taipei              225   \n",
       "4  TPE10443   TPE159519          0  Taipei              225   \n",
       "\n",
       "       route_name_en subroute_name_zh_tw   subroute_name_en  \\\n",
       "0                225                 225                225   \n",
       "1                225             225狗狗公車                225   \n",
       "2  Minquan Metro Bus                民權幹線  Minquan Metro Bus   \n",
       "3                225                 225                225   \n",
       "4                225             225狗狗公車                225   \n",
       "\n",
       "                                           stop_info stop_in_route  \\\n",
       "0  [{'StopUID': 'TPE148864', 'StopSequence': 1}, ...      TPE10000   \n",
       "1  [{'StopUID': 'TPE148864', 'StopSequence': 1}, ...      TPE10000   \n",
       "2  [{'StopUID': 'TPE151077', 'StopSequence': 1}, ...      TPE10001   \n",
       "3  [{'StopUID': 'TPE148864', 'StopSequence': 1}, ...      TPE10002   \n",
       "4  [{'StopUID': 'TPE148864', 'StopSequence': 1}, ...      TPE10002   \n",
       "\n",
       "   order_in_route  mrt_bus_stop  \n",
       "0              10         False  \n",
       "1              10         False  \n",
       "2               2         False  \n",
       "3              11         False  \n",
       "4              11         False  "
      ],
      "text/html": "<div>\n<style scoped>\n    .dataframe tbody tr th:only-of-type {\n        vertical-align: middle;\n    }\n\n    .dataframe tbody tr th {\n        vertical-align: top;\n    }\n\n    .dataframe thead th {\n        text-align: right;\n    }\n</style>\n<table border=\"1\" class=\"dataframe\">\n  <thead>\n    <tr style=\"text-align: right;\">\n      <th></th>\n      <th>StopUID</th>\n      <th>StationID</th>\n      <th>City_x</th>\n      <th>stop_name_zh_tw</th>\n      <th>stop_name_en</th>\n      <th>PositionLon</th>\n      <th>PositionLat</th>\n      <th>GeoHash</th>\n      <th>RouteUID</th>\n      <th>SubRouteUID</th>\n      <th>Direction</th>\n      <th>City_y</th>\n      <th>route_name_zh_tw</th>\n      <th>route_name_en</th>\n      <th>subroute_name_zh_tw</th>\n      <th>subroute_name_en</th>\n      <th>stop_info</th>\n      <th>stop_in_route</th>\n      <th>order_in_route</th>\n      <th>mrt_bus_stop</th>\n    </tr>\n  </thead>\n  <tbody>\n    <tr>\n      <th>0</th>\n      <td>TPE10000</td>\n      <td>3698</td>\n      <td>Taipei</td>\n      <td>蘆洲總站</td>\n      <td>Luzhou Bus Terminal</td>\n      <td>121.465846</td>\n      <td>25.089107</td>\n      <td>wsqqsp2dx</td>\n      <td>TPE10443</td>\n      <td>TPE10443</td>\n      <td>0</td>\n      <td>Taipei</td>\n      <td>225</td>\n      <td>225</td>\n      <td>225</td>\n      <td>225</td>\n      <td>[{'StopUID': 'TPE148864', 'StopSequence': 1}, ...</td>\n      <td>TPE10000</td>\n      <td>10</td>\n      <td>False</td>\n    </tr>\n    <tr>\n      <th>1</th>\n      <td>TPE10000</td>\n      <td>3698</td>\n      <td>Taipei</td>\n      <td>蘆洲總站</td>\n      <td>Luzhou Bus Terminal</td>\n      <td>121.465846</td>\n      <td>25.089107</td>\n      <td>wsqqsp2dx</td>\n      <td>TPE10443</td>\n      <td>TPE159519</td>\n      <td>0</td>\n      <td>Taipei</td>\n      <td>225</td>\n      <td>225</td>\n      <td>225狗狗公車</td>\n      <td>225</td>\n      <td>[{'StopUID': 'TPE148864', 'StopSequence': 1}, ...</td>\n      <td>TPE10000</td>\n      <td>10</td>\n      <td>False</td>\n    </tr>\n    <tr>\n      <th>2</th>\n      <td>TPE10001</td>\n      <td>8627</td>\n      <td>Taipei</td>\n      <td>南港分局(重陽)</td>\n      <td>Nangang Police Dist.(Chongyang)</td>\n      <td>121.596717</td>\n      <td>25.055561</td>\n      <td>wsqqx10p0</td>\n      <td>TPE10231</td>\n      <td>TPE10231</td>\n      <td>0</td>\n      <td>Taipei</td>\n      <td>民權幹線</td>\n      <td>Minquan Metro Bus</td>\n      <td>民權幹線</td>\n      <td>Minquan Metro Bus</td>\n      <td>[{'StopUID': 'TPE151077', 'StopSequence': 1}, ...</td>\n      <td>TPE10001</td>\n      <td>2</td>\n      <td>False</td>\n    </tr>\n    <tr>\n      <th>3</th>\n      <td>TPE10002</td>\n      <td>3655</td>\n      <td>Taipei</td>\n      <td>王爺廟口</td>\n      <td>Wangye Temple Entrance</td>\n      <td>121.466640</td>\n      <td>25.088140</td>\n      <td>wsqqsp1m1</td>\n      <td>TPE10443</td>\n      <td>TPE10443</td>\n      <td>0</td>\n      <td>Taipei</td>\n      <td>225</td>\n      <td>225</td>\n      <td>225</td>\n      <td>225</td>\n      <td>[{'StopUID': 'TPE148864', 'StopSequence': 1}, ...</td>\n      <td>TPE10002</td>\n      <td>11</td>\n      <td>False</td>\n    </tr>\n    <tr>\n      <th>4</th>\n      <td>TPE10002</td>\n      <td>3655</td>\n      <td>Taipei</td>\n      <td>王爺廟口</td>\n      <td>Wangye Temple Entrance</td>\n      <td>121.466640</td>\n      <td>25.088140</td>\n      <td>wsqqsp1m1</td>\n      <td>TPE10443</td>\n      <td>TPE159519</td>\n      <td>0</td>\n      <td>Taipei</td>\n      <td>225</td>\n      <td>225</td>\n      <td>225狗狗公車</td>\n      <td>225</td>\n      <td>[{'StopUID': 'TPE148864', 'StopSequence': 1}, ...</td>\n      <td>TPE10002</td>\n      <td>11</td>\n      <td>False</td>\n    </tr>\n  </tbody>\n</table>\n</div>"
     },
     "metadata": {},
     "execution_count": 42
    }
   ],
   "source": [
    "final_df.head()"
   ]
  },
  {
   "cell_type": "code",
   "execution_count": 43,
   "metadata": {},
   "outputs": [],
   "source": [
    "def extract_school_stop(stop_name_zh_tw: str):\n",
    "    # 國小\n",
    "    if re.search('國小', stop_name_zh_tw):\n",
    "        res = '國小'\n",
    "    # 國中\n",
    "    elif re.search('國中', stop_name_zh_tw):\n",
    "        res = '國中'\n",
    "    # 國高中\n",
    "    elif re.search('中學', stop_name_zh_tw):\n",
    "        res = '國高中'\n",
    "    # 高中同等學歷\n",
    "    elif re.search('高中', stop_name_zh_tw):\n",
    "        res = '高中'\n",
    "    elif re.search('女中', stop_name_zh_tw):\n",
    "        res = '女子高中'\n",
    "    elif re.search('高工', stop_name_zh_tw):\n",
    "        res = '高工'\n",
    "    elif re.search('商工', stop_name_zh_tw):\n",
    "        res = '商工'\n",
    "    elif re.search('商職', stop_name_zh_tw):\n",
    "        res = '商職'\n",
    "    elif re.search('高商', stop_name_zh_tw):\n",
    "        res = '高商'\n",
    "    # 大學、五專\n",
    "    elif re.search('大學', stop_name_zh_tw):\n",
    "        res = '大學'\n",
    "    elif re.search('專科學校', stop_name_zh_tw):\n",
    "        res = '專科學校'\n",
    "    elif re.search('學院', stop_name_zh_tw):\n",
    "        res = '學院'\n",
    "    else:\n",
    "        res = None\n",
    "    return res "
   ]
  },
  {
   "cell_type": "code",
   "execution_count": 44,
   "metadata": {},
   "outputs": [],
   "source": [
    "final_df['school_bus_stop'] = final_df['stop_name_zh_tw'].apply(extract_school_stop)"
   ]
  },
  {
   "cell_type": "code",
   "execution_count": 45,
   "metadata": {},
   "outputs": [],
   "source": [
    "# test = final_df[final_df['school_bus_stop'].notnull()]\n",
    "# test.query(\"school_bus_stop=='專科學校'\")['stop_name_zh_tw'].unique()"
   ]
  },
  {
   "cell_type": "code",
   "execution_count": 46,
   "metadata": {},
   "outputs": [],
   "source": [
    "# final_df['stop_name_zh_tw'].unique()[0:1000]"
   ]
  },
  {
   "source": [
    "## 經緯度兩點距離計算"
   ],
   "cell_type": "markdown",
   "metadata": {}
  },
  {
   "source": [
    "haversine: 半正矢公式是一種根據兩點的經度和緯度來確定大圓上兩點之間距離的計算方法，在導航有著重要地位。\n",
    "\n",
    "[Reference](https://zh.wikipedia.org/wiki/%E5%8D%8A%E6%AD%A3%E7%9F%A2%E5%85%AC%E5%BC%8F)"
   ],
   "cell_type": "markdown",
   "metadata": {}
  },
  {
   "cell_type": "code",
   "execution_count": 47,
   "metadata": {},
   "outputs": [],
   "source": [
    "\n",
    "def haversine(lon1, lat1, lon2, lat2): # 經度1，緯度1，經度2，緯度2（十進制度數）\n",
    "    \"\"\"\n",
    "    Calculate the great circle distance between two points \n",
    "    on the earth (specified in decimal degrees)\n",
    "    \"\"\"\n",
    "    # Using map method converts a degree value into radians\n",
    "    lon1, lat1, lon2, lat2 = map(radians, [lon1, lat1, lon2, lat2])\n",
    " \n",
    "    # haversine公式\n",
    "    dlon = lon2 - lon1 \n",
    "    dlat = lat2 - lat1 \n",
    "    a = sin(dlat/2)**2 + cos(lat1) * cos(lat2) * sin(dlon/2)**2\n",
    "    c = 2 * asin(sqrt(a)) \n",
    "    r = 6371  # Radius of the earth in km\n",
    "    return c * r * 1000"
   ]
  },
  {
   "cell_type": "code",
   "execution_count": 48,
   "metadata": {},
   "outputs": [
    {
     "output_type": "execute_result",
     "data": {
      "text/plain": [
       "13698.65484492898"
      ]
     },
     "metadata": {},
     "execution_count": 48
    }
   ],
   "source": [
    "haversine(121.465845849213, 25.089107361013, 121.596717, 25.055561)"
   ]
  },
  {
   "source": [
    "## 體育局列管臺北市各類運動場館"
   ],
   "cell_type": "markdown",
   "metadata": {}
  },
  {
   "cell_type": "code",
   "execution_count": 90,
   "metadata": {},
   "outputs": [],
   "source": [
    "if __name__ == '__main__':\n",
    "    response = request('get', 'https://data.taipei/api/getDatasetInfo/downloadResource?id=d2db2371-4bca-44cb-ac61-9a50e80c1873&rid=112521a2-7ee3-4c15-8495-9ddb3278ce75')\n",
    "    if response.status_code == 200:\n",
    "        decoded_content = response.content.decode('utf-8')\n",
    "        cr = csv.reader(decoded_content.splitlines(), delimiter=',')\n",
    "        my_list = list(cr)\n",
    "        gym_df = pd.DataFrame(my_list[1:], columns=my_list[0])\n",
    "    else:\n",
    "        print(f'request failed\\n{response.status_code}')"
   ]
  },
  {
   "cell_type": "code",
   "execution_count": 91,
   "metadata": {},
   "outputs": [
    {
     "output_type": "execute_result",
     "data": {
      "text/plain": [
       "     ﻿編號 公民營            廠商名稱_市招 行政區                 經營主體  \\\n",
       "0      1  民營             臺北醫學大學  信義               臺北醫學大學   \n",
       "1      2  公營             信義運動中心  信義          社團法人中國青年救國團   \n",
       "2      3  民營  World Gym健身俱樂部光復店  大安  香港商世界健身事業有限公司光復分公司    \n",
       "3      4  公營               博愛國小  信義        舞動陽光有限公司博愛營業所   \n",
       "4      5  民營     GO GYM健身俱樂部永春館  信義    高盛健身事業股份有限公司永春分公司   \n",
       "..   ...  ..                ...  ..                  ...   \n",
       "265  266  民營            國榮桌球古亭館  中正                國榮桌球館   \n",
       "266  267  民營              穜欣桌球館  士林                穜欣桌球館   \n",
       "267  268  民營             圓山育樂中心  士林       中國體育振興企業股份有限公司   \n",
       "268  269  民營             長興極限空間  大同              集武躍有限公司   \n",
       "269  270  民營             台北滑雪學校  內湖           台灣滑雪學苑有限公司   \n",
       "\n",
       "                           聯絡電話                  地址           經度           緯度  \n",
       "0    2739-9118  2236~1661分機2273       臺北市信義區吳興街250號  121.5627109  25.02661963  \n",
       "1                8786-1911分機305       臺北市信義區松勤街100號  121.5667558  25.03180456  \n",
       "2                     8771-3555  臺北市大安區忠孝東路4段330號B1  121.5574009  25.04113262  \n",
       "3                     8789-2525     臺北市信義區松仁路95巷20號  121.5711337  25.03644332  \n",
       "4                     2765-0700  臺北市信義區忠孝東路5段451號B1   121.576254  25.04105499  \n",
       "..                          ...                 ...          ...          ...  \n",
       "265                   2368-8818   台北市中正區和平西路1段34號2樓  121.5204201  25.02654815  \n",
       "266                   2873-1818     臺北市士林區天母西路13巷9號  121.5277619  25.11919885  \n",
       "267                   2881-2277      臺北市士林區中山北路5段6號  121.5256134  25.08236656  \n",
       "268                   2552-9553  臺北市大同區重慶北路2段162號1樓  121.5134682  25.05894872  \n",
       "269                   8791-7365     臺北市內湖區行愛路77巷67號  121.5831624  25.06368545  \n",
       "\n",
       "[270 rows x 9 columns]"
      ],
      "text/html": "<div>\n<style scoped>\n    .dataframe tbody tr th:only-of-type {\n        vertical-align: middle;\n    }\n\n    .dataframe tbody tr th {\n        vertical-align: top;\n    }\n\n    .dataframe thead th {\n        text-align: right;\n    }\n</style>\n<table border=\"1\" class=\"dataframe\">\n  <thead>\n    <tr style=\"text-align: right;\">\n      <th></th>\n      <th>﻿編號</th>\n      <th>公民營</th>\n      <th>廠商名稱_市招</th>\n      <th>行政區</th>\n      <th>經營主體</th>\n      <th>聯絡電話</th>\n      <th>地址</th>\n      <th>經度</th>\n      <th>緯度</th>\n    </tr>\n  </thead>\n  <tbody>\n    <tr>\n      <th>0</th>\n      <td>1</td>\n      <td>民營</td>\n      <td>臺北醫學大學</td>\n      <td>信義</td>\n      <td>臺北醫學大學</td>\n      <td>2739-9118  2236~1661分機2273</td>\n      <td>臺北市信義區吳興街250號</td>\n      <td>121.5627109</td>\n      <td>25.02661963</td>\n    </tr>\n    <tr>\n      <th>1</th>\n      <td>2</td>\n      <td>公營</td>\n      <td>信義運動中心</td>\n      <td>信義</td>\n      <td>社團法人中國青年救國團</td>\n      <td>8786-1911分機305</td>\n      <td>臺北市信義區松勤街100號</td>\n      <td>121.5667558</td>\n      <td>25.03180456</td>\n    </tr>\n    <tr>\n      <th>2</th>\n      <td>3</td>\n      <td>民營</td>\n      <td>World Gym健身俱樂部光復店</td>\n      <td>大安</td>\n      <td>香港商世界健身事業有限公司光復分公司</td>\n      <td>8771-3555</td>\n      <td>臺北市大安區忠孝東路4段330號B1</td>\n      <td>121.5574009</td>\n      <td>25.04113262</td>\n    </tr>\n    <tr>\n      <th>3</th>\n      <td>4</td>\n      <td>公營</td>\n      <td>博愛國小</td>\n      <td>信義</td>\n      <td>舞動陽光有限公司博愛營業所</td>\n      <td>8789-2525</td>\n      <td>臺北市信義區松仁路95巷20號</td>\n      <td>121.5711337</td>\n      <td>25.03644332</td>\n    </tr>\n    <tr>\n      <th>4</th>\n      <td>5</td>\n      <td>民營</td>\n      <td>GO GYM健身俱樂部永春館</td>\n      <td>信義</td>\n      <td>高盛健身事業股份有限公司永春分公司</td>\n      <td>2765-0700</td>\n      <td>臺北市信義區忠孝東路5段451號B1</td>\n      <td>121.576254</td>\n      <td>25.04105499</td>\n    </tr>\n    <tr>\n      <th>...</th>\n      <td>...</td>\n      <td>...</td>\n      <td>...</td>\n      <td>...</td>\n      <td>...</td>\n      <td>...</td>\n      <td>...</td>\n      <td>...</td>\n      <td>...</td>\n    </tr>\n    <tr>\n      <th>265</th>\n      <td>266</td>\n      <td>民營</td>\n      <td>國榮桌球古亭館</td>\n      <td>中正</td>\n      <td>國榮桌球館</td>\n      <td>2368-8818</td>\n      <td>台北市中正區和平西路1段34號2樓</td>\n      <td>121.5204201</td>\n      <td>25.02654815</td>\n    </tr>\n    <tr>\n      <th>266</th>\n      <td>267</td>\n      <td>民營</td>\n      <td>穜欣桌球館</td>\n      <td>士林</td>\n      <td>穜欣桌球館</td>\n      <td>2873-1818</td>\n      <td>臺北市士林區天母西路13巷9號</td>\n      <td>121.5277619</td>\n      <td>25.11919885</td>\n    </tr>\n    <tr>\n      <th>267</th>\n      <td>268</td>\n      <td>民營</td>\n      <td>圓山育樂中心</td>\n      <td>士林</td>\n      <td>中國體育振興企業股份有限公司</td>\n      <td>2881-2277</td>\n      <td>臺北市士林區中山北路5段6號</td>\n      <td>121.5256134</td>\n      <td>25.08236656</td>\n    </tr>\n    <tr>\n      <th>268</th>\n      <td>269</td>\n      <td>民營</td>\n      <td>長興極限空間</td>\n      <td>大同</td>\n      <td>集武躍有限公司</td>\n      <td>2552-9553</td>\n      <td>臺北市大同區重慶北路2段162號1樓</td>\n      <td>121.5134682</td>\n      <td>25.05894872</td>\n    </tr>\n    <tr>\n      <th>269</th>\n      <td>270</td>\n      <td>民營</td>\n      <td>台北滑雪學校</td>\n      <td>內湖</td>\n      <td>台灣滑雪學苑有限公司</td>\n      <td>8791-7365</td>\n      <td>臺北市內湖區行愛路77巷67號</td>\n      <td>121.5831624</td>\n      <td>25.06368545</td>\n    </tr>\n  </tbody>\n</table>\n<p>270 rows × 9 columns</p>\n</div>"
     },
     "metadata": {},
     "execution_count": 91
    }
   ],
   "source": [
    "\tgym_df"
   ]
  },
  {
   "source": [
    "## 臺北市政府工務局公園路燈工程管理處(公園資料)"
   ],
   "cell_type": "markdown",
   "metadata": {}
  },
  {
   "source": [
    "[Reference](https://parks.taipei/parks/index.php)"
   ],
   "cell_type": "markdown",
   "metadata": {}
  },
  {
   "cell_type": "code",
   "execution_count": 100,
   "metadata": {},
   "outputs": [],
   "source": [
    "if __name__ == '__main__':\n",
    "    response = request('get', 'https://parks.taipei/parks/api/')\n",
    "    if response.status_code == 200:\n",
    "        json = response.json()\n",
    "    else:\n",
    "        print(f'request failed\\n{response.status_code}')"
   ]
  },
  {
   "cell_type": "code",
   "execution_count": 101,
   "metadata": {},
   "outputs": [],
   "source": [
    "park_df = pd.DataFrame(json)"
   ]
  },
  {
   "cell_type": "code",
   "execution_count": 102,
   "metadata": {},
   "outputs": [],
   "source": [
    "park_df = park_df[['pm_name', 'pm_lon', 'pm_lat', 'pm_location', 'pm_area', 'pm_sports', 'pm_recreation', 'pm_service', 'pm_transit', 'pm_type']]"
   ]
  },
  {
   "cell_type": "code",
   "execution_count": 103,
   "metadata": {},
   "outputs": [
    {
     "output_type": "execute_result",
     "data": {
      "text/plain": [
       "  pm_name        pm_lon        pm_lat         pm_location pm_area  \\\n",
       "0    七虎公園  121.50205994  25.136499405      育仁路108號（薇閣小學旁）   10098   \n",
       "1    七星公園  121.50302124  25.136619568  光明路、中山路交叉口（新北投捷運站）   12056   \n",
       "2    大豐公園  121.50373077  25.131940842             公館路13號旁   12391   \n",
       "3    中央公園  121.49992371  25.128099442       大興街與中央南路二段6巷口    4463   \n",
       "4    中庸公園  121.50124359  25.138040543    位於北投區中庸里雙全街50號對面    5049   \n",
       "\n",
       "                                pm_sports pm_recreation  \\\n",
       "0                                     游泳池          組合遊具   \n",
       "1  腹肌板、大轉輪、雙人肩關節康復器、三人轉腰器、雙人太空漫步器、雙人上肢牽引器                 \n",
       "2      運動設施、腹肌板、健騎機、大轉輪、三人扭腰器、太空漫步器、上肢牽引器      組合遊具、搖搖樂   \n",
       "3                 腹肌板、伸腰伸背器、太空漫步器、雙人上肢牽引器          組合遊具   \n",
       "4                       三人壓腿器、伸腰伸背器、雙人漫步器      組合遊具、搖搖樂   \n",
       "\n",
       "                 pm_service  \\\n",
       "0                        涼亭   \n",
       "1                    公廁、生飲台   \n",
       "2  溜冰場、網球場、籃球場、涼亭、生飲台1座、洗手台   \n",
       "3                             \n",
       "4                    涼亭、生飲台   \n",
       "\n",
       "                                          pm_transit pm_type  \n",
       "0  北投公園站:216區, 218, 218區, 218直達車, 223, 266, 602,2...      公園  \n",
       "1  北投公園站:216區, 218, 218區, 218直達車, 223, 266, 602,2...      公園  \n",
       "2            北投市場站 ：216區, 602, 小14, 小21, 市民小巴M2 \\r\\n      公園  \n",
       "3                      搭乘218至大興街口、223至慈后宮、搭乘紅線至捷運奇岩站      公園  \n",
       "4                            搭乘218、承德幹線至中和街，捷運紅線至北投站      公園  "
      ],
      "text/html": "<div>\n<style scoped>\n    .dataframe tbody tr th:only-of-type {\n        vertical-align: middle;\n    }\n\n    .dataframe tbody tr th {\n        vertical-align: top;\n    }\n\n    .dataframe thead th {\n        text-align: right;\n    }\n</style>\n<table border=\"1\" class=\"dataframe\">\n  <thead>\n    <tr style=\"text-align: right;\">\n      <th></th>\n      <th>pm_name</th>\n      <th>pm_lon</th>\n      <th>pm_lat</th>\n      <th>pm_location</th>\n      <th>pm_area</th>\n      <th>pm_sports</th>\n      <th>pm_recreation</th>\n      <th>pm_service</th>\n      <th>pm_transit</th>\n      <th>pm_type</th>\n    </tr>\n  </thead>\n  <tbody>\n    <tr>\n      <th>0</th>\n      <td>七虎公園</td>\n      <td>121.50205994</td>\n      <td>25.136499405</td>\n      <td>育仁路108號（薇閣小學旁）</td>\n      <td>10098</td>\n      <td>游泳池</td>\n      <td>組合遊具</td>\n      <td>涼亭</td>\n      <td>北投公園站:216區, 218, 218區, 218直達車, 223, 266, 602,2...</td>\n      <td>公園</td>\n    </tr>\n    <tr>\n      <th>1</th>\n      <td>七星公園</td>\n      <td>121.50302124</td>\n      <td>25.136619568</td>\n      <td>光明路、中山路交叉口（新北投捷運站）</td>\n      <td>12056</td>\n      <td>腹肌板、大轉輪、雙人肩關節康復器、三人轉腰器、雙人太空漫步器、雙人上肢牽引器</td>\n      <td></td>\n      <td>公廁、生飲台</td>\n      <td>北投公園站:216區, 218, 218區, 218直達車, 223, 266, 602,2...</td>\n      <td>公園</td>\n    </tr>\n    <tr>\n      <th>2</th>\n      <td>大豐公園</td>\n      <td>121.50373077</td>\n      <td>25.131940842</td>\n      <td>公館路13號旁</td>\n      <td>12391</td>\n      <td>運動設施、腹肌板、健騎機、大轉輪、三人扭腰器、太空漫步器、上肢牽引器</td>\n      <td>組合遊具、搖搖樂</td>\n      <td>溜冰場、網球場、籃球場、涼亭、生飲台1座、洗手台</td>\n      <td>北投市場站 ：216區, 602, 小14, 小21, 市民小巴M2 \\r\\n</td>\n      <td>公園</td>\n    </tr>\n    <tr>\n      <th>3</th>\n      <td>中央公園</td>\n      <td>121.49992371</td>\n      <td>25.128099442</td>\n      <td>大興街與中央南路二段6巷口</td>\n      <td>4463</td>\n      <td>腹肌板、伸腰伸背器、太空漫步器、雙人上肢牽引器</td>\n      <td>組合遊具</td>\n      <td></td>\n      <td>搭乘218至大興街口、223至慈后宮、搭乘紅線至捷運奇岩站</td>\n      <td>公園</td>\n    </tr>\n    <tr>\n      <th>4</th>\n      <td>中庸公園</td>\n      <td>121.50124359</td>\n      <td>25.138040543</td>\n      <td>位於北投區中庸里雙全街50號對面</td>\n      <td>5049</td>\n      <td>三人壓腿器、伸腰伸背器、雙人漫步器</td>\n      <td>組合遊具、搖搖樂</td>\n      <td>涼亭、生飲台</td>\n      <td>搭乘218、承德幹線至中和街，捷運紅線至北投站</td>\n      <td>公園</td>\n    </tr>\n  </tbody>\n</table>\n</div>"
     },
     "metadata": {},
     "execution_count": 103
    }
   ],
   "source": [
    "park_df.head()"
   ]
  },
  {
   "cell_type": "code",
   "execution_count": 112,
   "metadata": {},
   "outputs": [],
   "source": [
    "def extract_bus_from_pm_transit(text: str):\n",
    "    text = re.sub(r'\\s+', '', text)\n",
    "    text = re.sub(r'(.)+(:|：)', '', text)\n",
    "    text = text.split(',')\n",
    "    res = list(map(lambda x: x.strip(), text))\n",
    "    return res"
   ]
  },
  {
   "cell_type": "code",
   "execution_count": 113,
   "metadata": {},
   "outputs": [],
   "source": [
    "park_df['nearby_bus'] = park_df['pm_transit'].apply(extract_bus_from_pm_transit)"
   ]
  },
  {
   "cell_type": "code",
   "execution_count": 114,
   "metadata": {},
   "outputs": [
    {
     "output_type": "execute_result",
     "data": {
      "text/plain": [
       "  pm_name        pm_lon        pm_lat         pm_location pm_area  \\\n",
       "0    七虎公園  121.50205994  25.136499405      育仁路108號（薇閣小學旁）   10098   \n",
       "1    七星公園  121.50302124  25.136619568  光明路、中山路交叉口（新北投捷運站）   12056   \n",
       "2    大豐公園  121.50373077  25.131940842             公館路13號旁   12391   \n",
       "3    中央公園  121.49992371  25.128099442       大興街與中央南路二段6巷口    4463   \n",
       "4    中庸公園  121.50124359  25.138040543    位於北投區中庸里雙全街50號對面    5049   \n",
       "\n",
       "                                pm_sports pm_recreation  \\\n",
       "0                                     游泳池          組合遊具   \n",
       "1  腹肌板、大轉輪、雙人肩關節康復器、三人轉腰器、雙人太空漫步器、雙人上肢牽引器                 \n",
       "2      運動設施、腹肌板、健騎機、大轉輪、三人扭腰器、太空漫步器、上肢牽引器      組合遊具、搖搖樂   \n",
       "3                 腹肌板、伸腰伸背器、太空漫步器、雙人上肢牽引器          組合遊具   \n",
       "4                       三人壓腿器、伸腰伸背器、雙人漫步器      組合遊具、搖搖樂   \n",
       "\n",
       "                 pm_service  \\\n",
       "0                        涼亭   \n",
       "1                    公廁、生飲台   \n",
       "2  溜冰場、網球場、籃球場、涼亭、生飲台1座、洗手台   \n",
       "3                             \n",
       "4                    涼亭、生飲台   \n",
       "\n",
       "                                          pm_transit pm_type  \\\n",
       "0  北投公園站:216區, 218, 218區, 218直達車, 223, 266, 602,2...      公園   \n",
       "1  北投公園站:216區, 218, 218區, 218直達車, 223, 266, 602,2...      公園   \n",
       "2            北投市場站 ：216區, 602, 小14, 小21, 市民小巴M2 \\r\\n      公園   \n",
       "3                      搭乘218至大興街口、223至慈后宮、搭乘紅線至捷運奇岩站      公園   \n",
       "4                            搭乘218、承德幹線至中和街，捷運紅線至北投站      公園   \n",
       "\n",
       "                                          nearby_bus  \n",
       "0  [216區, 218, 218區, 218直達車, 223, 266, 602, 230, ...  \n",
       "1  [216區, 218, 218區, 218直達車, 223, 266, 602, 230, ...  \n",
       "2                      [216區, 602, 小14, 小21, 市民小巴M2]  \n",
       "3                    [搭乘218至大興街口、223至慈后宮、搭乘紅線至捷運奇岩站]  \n",
       "4                          [搭乘218、承德幹線至中和街，捷運紅線至北投站]  "
      ],
      "text/html": "<div>\n<style scoped>\n    .dataframe tbody tr th:only-of-type {\n        vertical-align: middle;\n    }\n\n    .dataframe tbody tr th {\n        vertical-align: top;\n    }\n\n    .dataframe thead th {\n        text-align: right;\n    }\n</style>\n<table border=\"1\" class=\"dataframe\">\n  <thead>\n    <tr style=\"text-align: right;\">\n      <th></th>\n      <th>pm_name</th>\n      <th>pm_lon</th>\n      <th>pm_lat</th>\n      <th>pm_location</th>\n      <th>pm_area</th>\n      <th>pm_sports</th>\n      <th>pm_recreation</th>\n      <th>pm_service</th>\n      <th>pm_transit</th>\n      <th>pm_type</th>\n      <th>nearby_bus</th>\n    </tr>\n  </thead>\n  <tbody>\n    <tr>\n      <th>0</th>\n      <td>七虎公園</td>\n      <td>121.50205994</td>\n      <td>25.136499405</td>\n      <td>育仁路108號（薇閣小學旁）</td>\n      <td>10098</td>\n      <td>游泳池</td>\n      <td>組合遊具</td>\n      <td>涼亭</td>\n      <td>北投公園站:216區, 218, 218區, 218直達車, 223, 266, 602,2...</td>\n      <td>公園</td>\n      <td>[216區, 218, 218區, 218直達車, 223, 266, 602, 230, ...</td>\n    </tr>\n    <tr>\n      <th>1</th>\n      <td>七星公園</td>\n      <td>121.50302124</td>\n      <td>25.136619568</td>\n      <td>光明路、中山路交叉口（新北投捷運站）</td>\n      <td>12056</td>\n      <td>腹肌板、大轉輪、雙人肩關節康復器、三人轉腰器、雙人太空漫步器、雙人上肢牽引器</td>\n      <td></td>\n      <td>公廁、生飲台</td>\n      <td>北投公園站:216區, 218, 218區, 218直達車, 223, 266, 602,2...</td>\n      <td>公園</td>\n      <td>[216區, 218, 218區, 218直達車, 223, 266, 602, 230, ...</td>\n    </tr>\n    <tr>\n      <th>2</th>\n      <td>大豐公園</td>\n      <td>121.50373077</td>\n      <td>25.131940842</td>\n      <td>公館路13號旁</td>\n      <td>12391</td>\n      <td>運動設施、腹肌板、健騎機、大轉輪、三人扭腰器、太空漫步器、上肢牽引器</td>\n      <td>組合遊具、搖搖樂</td>\n      <td>溜冰場、網球場、籃球場、涼亭、生飲台1座、洗手台</td>\n      <td>北投市場站 ：216區, 602, 小14, 小21, 市民小巴M2 \\r\\n</td>\n      <td>公園</td>\n      <td>[216區, 602, 小14, 小21, 市民小巴M2]</td>\n    </tr>\n    <tr>\n      <th>3</th>\n      <td>中央公園</td>\n      <td>121.49992371</td>\n      <td>25.128099442</td>\n      <td>大興街與中央南路二段6巷口</td>\n      <td>4463</td>\n      <td>腹肌板、伸腰伸背器、太空漫步器、雙人上肢牽引器</td>\n      <td>組合遊具</td>\n      <td></td>\n      <td>搭乘218至大興街口、223至慈后宮、搭乘紅線至捷運奇岩站</td>\n      <td>公園</td>\n      <td>[搭乘218至大興街口、223至慈后宮、搭乘紅線至捷運奇岩站]</td>\n    </tr>\n    <tr>\n      <th>4</th>\n      <td>中庸公園</td>\n      <td>121.50124359</td>\n      <td>25.138040543</td>\n      <td>位於北投區中庸里雙全街50號對面</td>\n      <td>5049</td>\n      <td>三人壓腿器、伸腰伸背器、雙人漫步器</td>\n      <td>組合遊具、搖搖樂</td>\n      <td>涼亭、生飲台</td>\n      <td>搭乘218、承德幹線至中和街，捷運紅線至北投站</td>\n      <td>公園</td>\n      <td>[搭乘218、承德幹線至中和街，捷運紅線至北投站]</td>\n    </tr>\n  </tbody>\n</table>\n</div>"
     },
     "metadata": {},
     "execution_count": 114
    }
   ],
   "source": [
    "park_df.head()"
   ]
  },
  {
   "source": [
    "## 臺北捷運車站出入口座標"
   ],
   "cell_type": "markdown",
   "metadata": {}
  },
  {
   "cell_type": "code",
   "execution_count": 54,
   "metadata": {},
   "outputs": [],
   "source": [
    "\n",
    "if __name__ == '__main__':\n",
    "    a = Auth(app_id, app_key)\n",
    "    response = request('get', 'https://ptx.transportdata.tw/MOTC/v2/Rail/Metro/StationExit/TRTC?$format=json', headers= a.get_auth_header())\n",
    "    if response.status_code == 200:\n",
    "        json = response.json()\n",
    "    else:\n",
    "        print(f'request failed\\n{response.status_code}')"
   ]
  },
  {
   "cell_type": "code",
   "execution_count": 55,
   "metadata": {},
   "outputs": [],
   "source": [
    "mrt_exit_df = pd.DataFrame(json)"
   ]
  },
  {
   "cell_type": "code",
   "execution_count": 56,
   "metadata": {},
   "outputs": [
    {
     "output_type": "execute_result",
     "data": {
      "text/plain": [
       "    StationID                                        StationName ExitID  \\\n",
       "0        BL01                    {'Zh_tw': '頂埔', 'En': 'Dingpu'}      1   \n",
       "1        BL01                    {'Zh_tw': '頂埔', 'En': 'Dingpu'}      2   \n",
       "2        BL01                    {'Zh_tw': '頂埔', 'En': 'Dingpu'}      3   \n",
       "3        BL01                    {'Zh_tw': '頂埔', 'En': 'Dingpu'}      4   \n",
       "4        BL02                  {'Zh_tw': '永寧', 'En': 'Yongning'}      1   \n",
       "..        ...                                                ...    ...   \n",
       "382       Y18            {'Zh_tw': '頭前庄', 'En': 'Touqianzhuang'}      3   \n",
       "383       Y18            {'Zh_tw': '頭前庄', 'En': 'Touqianzhuang'}      4   \n",
       "384       Y19                    {'Zh_tw': '幸福', 'En': 'Xingfu'}      1   \n",
       "385       Y19                    {'Zh_tw': '幸福', 'En': 'Xingfu'}      2   \n",
       "386       Y20  {'Zh_tw': '新北產業園區', 'En': 'New Taipei Industri...      0   \n",
       "\n",
       "                                              ExitName  \\\n",
       "0           {'Zh_tw': '頂埔站出口1', 'En': 'Dingpu Exit 1'}   \n",
       "1           {'Zh_tw': '頂埔站出口2', 'En': 'Dingpu Exit 2'}   \n",
       "2           {'Zh_tw': '頂埔站出口3', 'En': 'Dingpu Exit 3'}   \n",
       "3           {'Zh_tw': '頂埔站出口4', 'En': 'Dingpu Exit 4'}   \n",
       "4         {'Zh_tw': '永寧站出口1', 'En': 'Yongning Exit 1'}   \n",
       "..                                                 ...   \n",
       "382  {'Zh_tw': '頭前庄站出口3', 'En': 'Touqianzhuang Exit...   \n",
       "383  {'Zh_tw': '頭前庄站出口4', 'En': 'Touqianzhuang Exit...   \n",
       "384         {'Zh_tw': '幸福站出口1', 'En': 'Xingfu Exit 1'}   \n",
       "385         {'Zh_tw': '幸福站出口2', 'En': 'Xingfu Exit 2'}   \n",
       "386  {'Zh_tw': '新北產業園區站出口', 'En': 'New Taipei Indus...   \n",
       "\n",
       "                                          ExitPosition LocationDescription  \\\n",
       "0    {'PositionLon': 121.418218, 'PositionLat': 24....         中央路4段約100號旁   \n",
       "1    {'PositionLon': 121.419, 'PositionLat': 24.959...       中央路4段，近鴻海精密工業   \n",
       "2    {'PositionLon': 121.4196, 'PositionLat': 24.95...     中央路4段，近嵿埔之星科技廣場   \n",
       "3    {'PositionLon': 121.4201, 'PositionLat': 24.96...           中央路4段62號旁   \n",
       "4    {'PositionLon': 121.435254, 'PositionLat': 24....           中央路3段98巷口   \n",
       "..                                                 ...                 ...   \n",
       "382  {'PositionLon': 121.462247, 'PositionLat': 25....         中正路、近中正路61巷   \n",
       "383  {'PositionLon': 121.462242, 'PositionLat': 25....         中正路、近中正路56巷   \n",
       "384  {'PositionLon': 121.460146, 'PositionLat': 25....      思源路與思源路296巷交叉口   \n",
       "385  {'PositionLon': 121.460593, 'PositionLat': 25....         思源路與幸福東路交叉口   \n",
       "386  {'PositionLon': 121.459926, 'PositionLat': 25....              五工路35號   \n",
       "\n",
       "     Stair  Escalator  Elevator              SrcUpdateTime  \\\n",
       "0     True          2      True  2020-01-31T14:00:00+08:00   \n",
       "1     True          2     False  2020-01-31T14:00:00+08:00   \n",
       "2     True          1      True  2020-01-31T14:00:00+08:00   \n",
       "3     True          0      True  2020-01-31T14:00:00+08:00   \n",
       "4     True          1      True  2020-01-31T14:00:00+08:00   \n",
       "..     ...        ...       ...                        ...   \n",
       "382   True          2     False  2020-01-31T14:00:00+08:00   \n",
       "383   True          2     False  2020-01-31T14:00:00+08:00   \n",
       "384   True          1      True  2020-01-31T14:00:00+08:00   \n",
       "385   True          0     False  2020-01-31T14:00:00+08:00   \n",
       "386   True          1      True  2020-01-31T14:00:00+08:00   \n",
       "\n",
       "                    UpdateTime  VersionID  \n",
       "0    2020-05-20T12:00:00+08:00          2  \n",
       "1    2020-05-20T12:00:00+08:00          2  \n",
       "2    2020-05-20T12:00:00+08:00          2  \n",
       "3    2020-05-20T12:00:00+08:00          2  \n",
       "4    2020-05-20T12:00:00+08:00          2  \n",
       "..                         ...        ...  \n",
       "382  2020-05-20T12:00:00+08:00          2  \n",
       "383  2020-05-20T12:00:00+08:00          2  \n",
       "384  2020-05-20T12:00:00+08:00          2  \n",
       "385  2020-05-20T12:00:00+08:00          2  \n",
       "386  2020-05-20T12:00:00+08:00          2  \n",
       "\n",
       "[387 rows x 12 columns]"
      ],
      "text/html": "<div>\n<style scoped>\n    .dataframe tbody tr th:only-of-type {\n        vertical-align: middle;\n    }\n\n    .dataframe tbody tr th {\n        vertical-align: top;\n    }\n\n    .dataframe thead th {\n        text-align: right;\n    }\n</style>\n<table border=\"1\" class=\"dataframe\">\n  <thead>\n    <tr style=\"text-align: right;\">\n      <th></th>\n      <th>StationID</th>\n      <th>StationName</th>\n      <th>ExitID</th>\n      <th>ExitName</th>\n      <th>ExitPosition</th>\n      <th>LocationDescription</th>\n      <th>Stair</th>\n      <th>Escalator</th>\n      <th>Elevator</th>\n      <th>SrcUpdateTime</th>\n      <th>UpdateTime</th>\n      <th>VersionID</th>\n    </tr>\n  </thead>\n  <tbody>\n    <tr>\n      <th>0</th>\n      <td>BL01</td>\n      <td>{'Zh_tw': '頂埔', 'En': 'Dingpu'}</td>\n      <td>1</td>\n      <td>{'Zh_tw': '頂埔站出口1', 'En': 'Dingpu Exit 1'}</td>\n      <td>{'PositionLon': 121.418218, 'PositionLat': 24....</td>\n      <td>中央路4段約100號旁</td>\n      <td>True</td>\n      <td>2</td>\n      <td>True</td>\n      <td>2020-01-31T14:00:00+08:00</td>\n      <td>2020-05-20T12:00:00+08:00</td>\n      <td>2</td>\n    </tr>\n    <tr>\n      <th>1</th>\n      <td>BL01</td>\n      <td>{'Zh_tw': '頂埔', 'En': 'Dingpu'}</td>\n      <td>2</td>\n      <td>{'Zh_tw': '頂埔站出口2', 'En': 'Dingpu Exit 2'}</td>\n      <td>{'PositionLon': 121.419, 'PositionLat': 24.959...</td>\n      <td>中央路4段，近鴻海精密工業</td>\n      <td>True</td>\n      <td>2</td>\n      <td>False</td>\n      <td>2020-01-31T14:00:00+08:00</td>\n      <td>2020-05-20T12:00:00+08:00</td>\n      <td>2</td>\n    </tr>\n    <tr>\n      <th>2</th>\n      <td>BL01</td>\n      <td>{'Zh_tw': '頂埔', 'En': 'Dingpu'}</td>\n      <td>3</td>\n      <td>{'Zh_tw': '頂埔站出口3', 'En': 'Dingpu Exit 3'}</td>\n      <td>{'PositionLon': 121.4196, 'PositionLat': 24.95...</td>\n      <td>中央路4段，近嵿埔之星科技廣場</td>\n      <td>True</td>\n      <td>1</td>\n      <td>True</td>\n      <td>2020-01-31T14:00:00+08:00</td>\n      <td>2020-05-20T12:00:00+08:00</td>\n      <td>2</td>\n    </tr>\n    <tr>\n      <th>3</th>\n      <td>BL01</td>\n      <td>{'Zh_tw': '頂埔', 'En': 'Dingpu'}</td>\n      <td>4</td>\n      <td>{'Zh_tw': '頂埔站出口4', 'En': 'Dingpu Exit 4'}</td>\n      <td>{'PositionLon': 121.4201, 'PositionLat': 24.96...</td>\n      <td>中央路4段62號旁</td>\n      <td>True</td>\n      <td>0</td>\n      <td>True</td>\n      <td>2020-01-31T14:00:00+08:00</td>\n      <td>2020-05-20T12:00:00+08:00</td>\n      <td>2</td>\n    </tr>\n    <tr>\n      <th>4</th>\n      <td>BL02</td>\n      <td>{'Zh_tw': '永寧', 'En': 'Yongning'}</td>\n      <td>1</td>\n      <td>{'Zh_tw': '永寧站出口1', 'En': 'Yongning Exit 1'}</td>\n      <td>{'PositionLon': 121.435254, 'PositionLat': 24....</td>\n      <td>中央路3段98巷口</td>\n      <td>True</td>\n      <td>1</td>\n      <td>True</td>\n      <td>2020-01-31T14:00:00+08:00</td>\n      <td>2020-05-20T12:00:00+08:00</td>\n      <td>2</td>\n    </tr>\n    <tr>\n      <th>...</th>\n      <td>...</td>\n      <td>...</td>\n      <td>...</td>\n      <td>...</td>\n      <td>...</td>\n      <td>...</td>\n      <td>...</td>\n      <td>...</td>\n      <td>...</td>\n      <td>...</td>\n      <td>...</td>\n      <td>...</td>\n    </tr>\n    <tr>\n      <th>382</th>\n      <td>Y18</td>\n      <td>{'Zh_tw': '頭前庄', 'En': 'Touqianzhuang'}</td>\n      <td>3</td>\n      <td>{'Zh_tw': '頭前庄站出口3', 'En': 'Touqianzhuang Exit...</td>\n      <td>{'PositionLon': 121.462247, 'PositionLat': 25....</td>\n      <td>中正路、近中正路61巷</td>\n      <td>True</td>\n      <td>2</td>\n      <td>False</td>\n      <td>2020-01-31T14:00:00+08:00</td>\n      <td>2020-05-20T12:00:00+08:00</td>\n      <td>2</td>\n    </tr>\n    <tr>\n      <th>383</th>\n      <td>Y18</td>\n      <td>{'Zh_tw': '頭前庄', 'En': 'Touqianzhuang'}</td>\n      <td>4</td>\n      <td>{'Zh_tw': '頭前庄站出口4', 'En': 'Touqianzhuang Exit...</td>\n      <td>{'PositionLon': 121.462242, 'PositionLat': 25....</td>\n      <td>中正路、近中正路56巷</td>\n      <td>True</td>\n      <td>2</td>\n      <td>False</td>\n      <td>2020-01-31T14:00:00+08:00</td>\n      <td>2020-05-20T12:00:00+08:00</td>\n      <td>2</td>\n    </tr>\n    <tr>\n      <th>384</th>\n      <td>Y19</td>\n      <td>{'Zh_tw': '幸福', 'En': 'Xingfu'}</td>\n      <td>1</td>\n      <td>{'Zh_tw': '幸福站出口1', 'En': 'Xingfu Exit 1'}</td>\n      <td>{'PositionLon': 121.460146, 'PositionLat': 25....</td>\n      <td>思源路與思源路296巷交叉口</td>\n      <td>True</td>\n      <td>1</td>\n      <td>True</td>\n      <td>2020-01-31T14:00:00+08:00</td>\n      <td>2020-05-20T12:00:00+08:00</td>\n      <td>2</td>\n    </tr>\n    <tr>\n      <th>385</th>\n      <td>Y19</td>\n      <td>{'Zh_tw': '幸福', 'En': 'Xingfu'}</td>\n      <td>2</td>\n      <td>{'Zh_tw': '幸福站出口2', 'En': 'Xingfu Exit 2'}</td>\n      <td>{'PositionLon': 121.460593, 'PositionLat': 25....</td>\n      <td>思源路與幸福東路交叉口</td>\n      <td>True</td>\n      <td>0</td>\n      <td>False</td>\n      <td>2020-01-31T14:00:00+08:00</td>\n      <td>2020-05-20T12:00:00+08:00</td>\n      <td>2</td>\n    </tr>\n    <tr>\n      <th>386</th>\n      <td>Y20</td>\n      <td>{'Zh_tw': '新北產業園區', 'En': 'New Taipei Industri...</td>\n      <td>0</td>\n      <td>{'Zh_tw': '新北產業園區站出口', 'En': 'New Taipei Indus...</td>\n      <td>{'PositionLon': 121.459926, 'PositionLat': 25....</td>\n      <td>五工路35號</td>\n      <td>True</td>\n      <td>1</td>\n      <td>True</td>\n      <td>2020-01-31T14:00:00+08:00</td>\n      <td>2020-05-20T12:00:00+08:00</td>\n      <td>2</td>\n    </tr>\n  </tbody>\n</table>\n<p>387 rows × 12 columns</p>\n</div>"
     },
     "metadata": {},
     "execution_count": 56
    }
   ],
   "source": [
    "mrt_exit_df"
   ]
  },
  {
   "source": [
    "## 臺北捷運車站出入口無障礙電梯、無障礙坡道GPS座標\n",
    "[Reference](https://data.gov.tw/dataset/128414)"
   ],
   "cell_type": "markdown",
   "metadata": {}
  },
  {
   "cell_type": "code",
   "execution_count": 57,
   "metadata": {},
   "outputs": [],
   "source": [
    "if __name__ == '__main__':\n",
    "    response = request('get', 'https://data.taipei/api/getDatasetInfo/downloadResource?id=0a3bb422-9eb5-459b-a9d4-138456516183&rid=7a3a6a6d-3319-41f3-a422-df537db2c25b')\n",
    "    if response.status_code == 200:\n",
    "        decoded_content = response.content.decode('Big5')\n",
    "        cr = csv.reader(decoded_content.splitlines(), delimiter=',')\n",
    "        my_list = list(cr)\n",
    "        mrt_barrier_free_df = pd.DataFrame(my_list[1:], columns=my_list[0])\n",
    "    else:\n",
    "        print(f'request failed\\n{response.status_code}')"
   ]
  },
  {
   "cell_type": "code",
   "execution_count": 58,
   "metadata": {},
   "outputs": [
    {
     "output_type": "execute_result",
     "data": {
      "text/plain": [
       "      項次 出入口電梯/無障礙坡道名稱 出入口編號           經度          緯度\n",
       "0      1     動物園站出口電梯1   出口1  121.5797157  24.9982136\n",
       "1      2     動物園站出口電梯2   出口2  121.5795233    24.99809\n",
       "2      3    木柵站出口無障礙坡道  單一出口  121.5732164  24.9980328\n",
       "3      4  萬芳社區站出口無障礙坡道  單一出口  121.5685909  24.9984689\n",
       "4      5     萬芳醫院站出口電梯  單一出口  121.5577226   24.999444\n",
       "..   ...           ...   ...          ...         ...\n",
       "178  179       中原站出口電梯  單一出口  121.4846089  25.0082755\n",
       "179  180       板新站出口電梯  單一出口  121.4724853  25.0144302\n",
       "180  181     新埔民生站出口電梯  單一出口  121.4668182  25.0261323\n",
       "181  182       幸褔站出口電梯   出口1   121.460188   25.049854\n",
       "182  183   新北產業園區站出口電梯  單一出口  121.4597405  25.0611067\n",
       "\n",
       "[183 rows x 5 columns]"
      ],
      "text/html": "<div>\n<style scoped>\n    .dataframe tbody tr th:only-of-type {\n        vertical-align: middle;\n    }\n\n    .dataframe tbody tr th {\n        vertical-align: top;\n    }\n\n    .dataframe thead th {\n        text-align: right;\n    }\n</style>\n<table border=\"1\" class=\"dataframe\">\n  <thead>\n    <tr style=\"text-align: right;\">\n      <th></th>\n      <th>項次</th>\n      <th>出入口電梯/無障礙坡道名稱</th>\n      <th>出入口編號</th>\n      <th>經度</th>\n      <th>緯度</th>\n    </tr>\n  </thead>\n  <tbody>\n    <tr>\n      <th>0</th>\n      <td>1</td>\n      <td>動物園站出口電梯1</td>\n      <td>出口1</td>\n      <td>121.5797157</td>\n      <td>24.9982136</td>\n    </tr>\n    <tr>\n      <th>1</th>\n      <td>2</td>\n      <td>動物園站出口電梯2</td>\n      <td>出口2</td>\n      <td>121.5795233</td>\n      <td>24.99809</td>\n    </tr>\n    <tr>\n      <th>2</th>\n      <td>3</td>\n      <td>木柵站出口無障礙坡道</td>\n      <td>單一出口</td>\n      <td>121.5732164</td>\n      <td>24.9980328</td>\n    </tr>\n    <tr>\n      <th>3</th>\n      <td>4</td>\n      <td>萬芳社區站出口無障礙坡道</td>\n      <td>單一出口</td>\n      <td>121.5685909</td>\n      <td>24.9984689</td>\n    </tr>\n    <tr>\n      <th>4</th>\n      <td>5</td>\n      <td>萬芳醫院站出口電梯</td>\n      <td>單一出口</td>\n      <td>121.5577226</td>\n      <td>24.999444</td>\n    </tr>\n    <tr>\n      <th>...</th>\n      <td>...</td>\n      <td>...</td>\n      <td>...</td>\n      <td>...</td>\n      <td>...</td>\n    </tr>\n    <tr>\n      <th>178</th>\n      <td>179</td>\n      <td>中原站出口電梯</td>\n      <td>單一出口</td>\n      <td>121.4846089</td>\n      <td>25.0082755</td>\n    </tr>\n    <tr>\n      <th>179</th>\n      <td>180</td>\n      <td>板新站出口電梯</td>\n      <td>單一出口</td>\n      <td>121.4724853</td>\n      <td>25.0144302</td>\n    </tr>\n    <tr>\n      <th>180</th>\n      <td>181</td>\n      <td>新埔民生站出口電梯</td>\n      <td>單一出口</td>\n      <td>121.4668182</td>\n      <td>25.0261323</td>\n    </tr>\n    <tr>\n      <th>181</th>\n      <td>182</td>\n      <td>幸褔站出口電梯</td>\n      <td>出口1</td>\n      <td>121.460188</td>\n      <td>25.049854</td>\n    </tr>\n    <tr>\n      <th>182</th>\n      <td>183</td>\n      <td>新北產業園區站出口電梯</td>\n      <td>單一出口</td>\n      <td>121.4597405</td>\n      <td>25.0611067</td>\n    </tr>\n  </tbody>\n</table>\n<p>183 rows × 5 columns</p>\n</div>"
     },
     "metadata": {},
     "execution_count": 58
    }
   ],
   "source": [
    "mrt_barrier_free_df"
   ]
  },
  {
   "source": [
    "## 臺北市公共自行車站點資料服務"
   ],
   "cell_type": "markdown",
   "metadata": {}
  },
  {
   "cell_type": "code",
   "execution_count": 59,
   "metadata": {},
   "outputs": [],
   "source": [
    "if __name__ == '__main__':\n",
    "    if __name__ == '__main__':\n",
    "        a = Auth(app_id, app_key)\n",
    "        response = request('get', 'https://ptx.transportdata.tw/MOTC/v2/Bike/Station/Taipei?&$format=JSON', headers= a.get_auth_header())\n",
    "        if response.status_code == 200:\n",
    "            json = response.json()\n",
    "        else:\n",
    "            print(f'request failed\\n{response.status_code}')"
   ]
  },
  {
   "cell_type": "code",
   "execution_count": 60,
   "metadata": {},
   "outputs": [],
   "source": [
    "bike_station_df = pd.DataFrame(json)"
   ]
  },
  {
   "cell_type": "code",
   "execution_count": 61,
   "metadata": {},
   "outputs": [
    {
     "output_type": "execute_result",
     "data": {
      "text/plain": [
       "    StationUID StationID AuthorityID  \\\n",
       "0      TPE0001      0001         TPE   \n",
       "1      TPE0002      0002         TPE   \n",
       "2      TPE0003      0003         TPE   \n",
       "3      TPE0004      0004         TPE   \n",
       "4      TPE0005      0005         TPE   \n",
       "..         ...       ...         ...   \n",
       "394    TPE0401      0401         TPE   \n",
       "395    TPE0402      0402         TPE   \n",
       "396    TPE0403      0403         TPE   \n",
       "397    TPE0404      0404         TPE   \n",
       "398    TPE0405      0405         TPE   \n",
       "\n",
       "                                           StationName  \\\n",
       "0    {'Zh_tw': '捷運市政府站(3號出口)', 'En': 'MRT Taipei Ci...   \n",
       "1    {'Zh_tw': '捷運國父紀念館站(2號出口)', 'En': 'MRT S.Y.S M...   \n",
       "2         {'Zh_tw': '台北市政府', 'En': 'Taipei City Hall'}   \n",
       "3            {'Zh_tw': '市民廣場', 'En': 'Citizen Square'}   \n",
       "4    {'Zh_tw': '興雅國中', 'En': 'Xingya Jr. High School'}   \n",
       "..                                                 ...   \n",
       "394  {'Zh_tw': '南京新生路口', 'En': 'Nanjing & Xinsheng ...   \n",
       "395             {'Zh_tw': '下灣公園', 'En': 'Siawan Park'}   \n",
       "396  {'Zh_tw': '捷運內湖站(1號出口)', 'En': 'MRT Neihu Sta....   \n",
       "397  {'Zh_tw': '民族延平路口', 'En': 'Minzu & Yanping Int...   \n",
       "398  {'Zh_tw': '捷運科技大樓站(台北教育大學)', 'En': 'MRT Techno...   \n",
       "\n",
       "                                       StationPosition  \\\n",
       "0    {'PositionLon': 121.567904444, 'PositionLat': ...   \n",
       "1    {'PositionLon': 121.55742, 'PositionLat': 25.0...   \n",
       "2    {'PositionLon': 121.565169444, 'PositionLat': ...   \n",
       "3    {'PositionLon': 121.562325, 'PositionLat': 25....   \n",
       "4    {'PositionLon': 121.5686639, 'PositionLat': 25...   \n",
       "..                                                 ...   \n",
       "394  {'PositionLon': 121.527661, 'PositionLat': 25....   \n",
       "395  {'PositionLon': 121.595611, 'PositionLat': 25....   \n",
       "396  {'PositionLon': 121.593929, 'PositionLat': 25....   \n",
       "397  {'PositionLon': 121.510569, 'PositionLat': 25....   \n",
       "398  {'PositionLon': 121.544156, 'PositionLat': 25....   \n",
       "\n",
       "                                        StationAddress  BikesCapacity  \\\n",
       "0    {'Zh_tw': '忠孝東路/松仁路(東南側)', 'En': 'The S.W. sid...            180   \n",
       "1    {'Zh_tw': '忠孝東路四段/光復南路口(西南側)', 'En': 'Sec,4. Z...             48   \n",
       "2    {'Zh_tw': '台北市政府東門(松智路) (鄰近信義商圈/台北探索館)', 'En':...             40   \n",
       "3    {'Zh_tw': '市府路/松壽路(西北側)(鄰近台北101/台北世界貿易中心/台北探索館...             60   \n",
       "4    {'Zh_tw': '松仁路/松仁路95巷(東南側)(鄰近信義商圈/台北信義威秀影城)', ...             60   \n",
       "..                                                 ...            ...   \n",
       "394  {'Zh_tw': '新生北路一段 / 南京東路一段口(橋墩下方)(鄰近林森公園/康樂公園)...             34   \n",
       "395  {'Zh_tw': '民權東路六段206巷 / 民權東路六段190巷75弄口', 'En':...             28   \n",
       "396  {'Zh_tw': '成功路四段182巷 / 成功路四段182巷6弄口(東南側)', 'En...             28   \n",
       "397  {'Zh_tw': '民族西路 310 號前方', 'En': 'No.310, Minzu...             30   \n",
       "398  {'Zh_tw': '和平東路二段134號(前方)', 'En': 'No. 134, He...             66   \n",
       "\n",
       "                 SrcUpdateTime                 UpdateTime  \n",
       "0    2021-05-28T16:13:42+08:00  2021-05-28T16:15:18+08:00  \n",
       "1    2021-05-28T16:13:21+08:00  2021-05-28T16:15:18+08:00  \n",
       "2    2021-05-28T16:13:23+08:00  2021-05-28T16:15:18+08:00  \n",
       "3    2021-05-28T16:13:26+08:00  2021-05-28T16:15:18+08:00  \n",
       "4    2021-05-28T16:13:34+08:00  2021-05-28T16:15:18+08:00  \n",
       "..                         ...                        ...  \n",
       "394  2021-05-28T16:13:38+08:00  2021-05-28T16:15:18+08:00  \n",
       "395  2021-05-28T16:13:38+08:00  2021-05-28T16:15:18+08:00  \n",
       "396  2021-05-28T16:13:30+08:00  2021-05-28T16:15:18+08:00  \n",
       "397  2021-05-28T16:13:41+08:00  2021-05-28T16:15:18+08:00  \n",
       "398  2021-05-28T16:13:33+08:00  2021-05-28T16:15:18+08:00  \n",
       "\n",
       "[399 rows x 9 columns]"
      ],
      "text/html": "<div>\n<style scoped>\n    .dataframe tbody tr th:only-of-type {\n        vertical-align: middle;\n    }\n\n    .dataframe tbody tr th {\n        vertical-align: top;\n    }\n\n    .dataframe thead th {\n        text-align: right;\n    }\n</style>\n<table border=\"1\" class=\"dataframe\">\n  <thead>\n    <tr style=\"text-align: right;\">\n      <th></th>\n      <th>StationUID</th>\n      <th>StationID</th>\n      <th>AuthorityID</th>\n      <th>StationName</th>\n      <th>StationPosition</th>\n      <th>StationAddress</th>\n      <th>BikesCapacity</th>\n      <th>SrcUpdateTime</th>\n      <th>UpdateTime</th>\n    </tr>\n  </thead>\n  <tbody>\n    <tr>\n      <th>0</th>\n      <td>TPE0001</td>\n      <td>0001</td>\n      <td>TPE</td>\n      <td>{'Zh_tw': '捷運市政府站(3號出口)', 'En': 'MRT Taipei Ci...</td>\n      <td>{'PositionLon': 121.567904444, 'PositionLat': ...</td>\n      <td>{'Zh_tw': '忠孝東路/松仁路(東南側)', 'En': 'The S.W. sid...</td>\n      <td>180</td>\n      <td>2021-05-28T16:13:42+08:00</td>\n      <td>2021-05-28T16:15:18+08:00</td>\n    </tr>\n    <tr>\n      <th>1</th>\n      <td>TPE0002</td>\n      <td>0002</td>\n      <td>TPE</td>\n      <td>{'Zh_tw': '捷運國父紀念館站(2號出口)', 'En': 'MRT S.Y.S M...</td>\n      <td>{'PositionLon': 121.55742, 'PositionLat': 25.0...</td>\n      <td>{'Zh_tw': '忠孝東路四段/光復南路口(西南側)', 'En': 'Sec,4. Z...</td>\n      <td>48</td>\n      <td>2021-05-28T16:13:21+08:00</td>\n      <td>2021-05-28T16:15:18+08:00</td>\n    </tr>\n    <tr>\n      <th>2</th>\n      <td>TPE0003</td>\n      <td>0003</td>\n      <td>TPE</td>\n      <td>{'Zh_tw': '台北市政府', 'En': 'Taipei City Hall'}</td>\n      <td>{'PositionLon': 121.565169444, 'PositionLat': ...</td>\n      <td>{'Zh_tw': '台北市政府東門(松智路) (鄰近信義商圈/台北探索館)', 'En':...</td>\n      <td>40</td>\n      <td>2021-05-28T16:13:23+08:00</td>\n      <td>2021-05-28T16:15:18+08:00</td>\n    </tr>\n    <tr>\n      <th>3</th>\n      <td>TPE0004</td>\n      <td>0004</td>\n      <td>TPE</td>\n      <td>{'Zh_tw': '市民廣場', 'En': 'Citizen Square'}</td>\n      <td>{'PositionLon': 121.562325, 'PositionLat': 25....</td>\n      <td>{'Zh_tw': '市府路/松壽路(西北側)(鄰近台北101/台北世界貿易中心/台北探索館...</td>\n      <td>60</td>\n      <td>2021-05-28T16:13:26+08:00</td>\n      <td>2021-05-28T16:15:18+08:00</td>\n    </tr>\n    <tr>\n      <th>4</th>\n      <td>TPE0005</td>\n      <td>0005</td>\n      <td>TPE</td>\n      <td>{'Zh_tw': '興雅國中', 'En': 'Xingya Jr. High School'}</td>\n      <td>{'PositionLon': 121.5686639, 'PositionLat': 25...</td>\n      <td>{'Zh_tw': '松仁路/松仁路95巷(東南側)(鄰近信義商圈/台北信義威秀影城)', ...</td>\n      <td>60</td>\n      <td>2021-05-28T16:13:34+08:00</td>\n      <td>2021-05-28T16:15:18+08:00</td>\n    </tr>\n    <tr>\n      <th>...</th>\n      <td>...</td>\n      <td>...</td>\n      <td>...</td>\n      <td>...</td>\n      <td>...</td>\n      <td>...</td>\n      <td>...</td>\n      <td>...</td>\n      <td>...</td>\n    </tr>\n    <tr>\n      <th>394</th>\n      <td>TPE0401</td>\n      <td>0401</td>\n      <td>TPE</td>\n      <td>{'Zh_tw': '南京新生路口', 'En': 'Nanjing &amp; Xinsheng ...</td>\n      <td>{'PositionLon': 121.527661, 'PositionLat': 25....</td>\n      <td>{'Zh_tw': '新生北路一段 / 南京東路一段口(橋墩下方)(鄰近林森公園/康樂公園)...</td>\n      <td>34</td>\n      <td>2021-05-28T16:13:38+08:00</td>\n      <td>2021-05-28T16:15:18+08:00</td>\n    </tr>\n    <tr>\n      <th>395</th>\n      <td>TPE0402</td>\n      <td>0402</td>\n      <td>TPE</td>\n      <td>{'Zh_tw': '下灣公園', 'En': 'Siawan Park'}</td>\n      <td>{'PositionLon': 121.595611, 'PositionLat': 25....</td>\n      <td>{'Zh_tw': '民權東路六段206巷 / 民權東路六段190巷75弄口', 'En':...</td>\n      <td>28</td>\n      <td>2021-05-28T16:13:38+08:00</td>\n      <td>2021-05-28T16:15:18+08:00</td>\n    </tr>\n    <tr>\n      <th>396</th>\n      <td>TPE0403</td>\n      <td>0403</td>\n      <td>TPE</td>\n      <td>{'Zh_tw': '捷運內湖站(1號出口)', 'En': 'MRT Neihu Sta....</td>\n      <td>{'PositionLon': 121.593929, 'PositionLat': 25....</td>\n      <td>{'Zh_tw': '成功路四段182巷 / 成功路四段182巷6弄口(東南側)', 'En...</td>\n      <td>28</td>\n      <td>2021-05-28T16:13:30+08:00</td>\n      <td>2021-05-28T16:15:18+08:00</td>\n    </tr>\n    <tr>\n      <th>397</th>\n      <td>TPE0404</td>\n      <td>0404</td>\n      <td>TPE</td>\n      <td>{'Zh_tw': '民族延平路口', 'En': 'Minzu &amp; Yanping Int...</td>\n      <td>{'PositionLon': 121.510569, 'PositionLat': 25....</td>\n      <td>{'Zh_tw': '民族西路 310 號前方', 'En': 'No.310, Minzu...</td>\n      <td>30</td>\n      <td>2021-05-28T16:13:41+08:00</td>\n      <td>2021-05-28T16:15:18+08:00</td>\n    </tr>\n    <tr>\n      <th>398</th>\n      <td>TPE0405</td>\n      <td>0405</td>\n      <td>TPE</td>\n      <td>{'Zh_tw': '捷運科技大樓站(台北教育大學)', 'En': 'MRT Techno...</td>\n      <td>{'PositionLon': 121.544156, 'PositionLat': 25....</td>\n      <td>{'Zh_tw': '和平東路二段134號(前方)', 'En': 'No. 134, He...</td>\n      <td>66</td>\n      <td>2021-05-28T16:13:33+08:00</td>\n      <td>2021-05-28T16:15:18+08:00</td>\n    </tr>\n  </tbody>\n</table>\n<p>399 rows × 9 columns</p>\n</div>"
     },
     "metadata": {},
     "execution_count": 61
    }
   ],
   "source": [
    "bike_station_df"
   ]
  },
  {
   "cell_type": "code",
   "execution_count": null,
   "metadata": {},
   "outputs": [],
   "source": []
  }
 ]
}